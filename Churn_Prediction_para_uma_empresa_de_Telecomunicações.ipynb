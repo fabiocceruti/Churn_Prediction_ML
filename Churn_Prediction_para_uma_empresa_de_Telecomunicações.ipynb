{
  "nbformat": 4,
  "nbformat_minor": 0,
  "metadata": {
    "colab": {
      "name": "Churn Prediction para uma empresa de Telecomunicações.ipynb",
      "provenance": [],
      "collapsed_sections": [],
      "toc_visible": true,
      "include_colab_link": true
    },
    "kernelspec": {
      "name": "python3",
      "display_name": "Python 3"
    }
  },
  "cells": [
    {
      "cell_type": "markdown",
      "metadata": {
        "id": "view-in-github",
        "colab_type": "text"
      },
      "source": [
        "<a href=\"https://colab.research.google.com/github/fabiocceruti/Churn_Prediction_ML/blob/main/Churn_Prediction_para_uma_empresa_de_Telecomunica%C3%A7%C3%B5es.ipynb\" target=\"_parent\"><img src=\"https://colab.research.google.com/assets/colab-badge.svg\" alt=\"Open In Colab\"/></a>"
      ]
    },
    {
      "cell_type": "markdown",
      "metadata": {
        "id": "sC2BFMOKN1M7"
      },
      "source": [
        "---\n",
        "![](https://raw.githubusercontent.com/fabiocceruti/Portfolio/main/Banner_Principal_Ajustado.png)\n",
        "\n",
        "[Designed by starline / Freepik](https://www.freepik.com/)\n",
        "\n",
        "##**Análise de Dados da COVID-19 sob uma perspectiva mundial e brasileira**##\n",
        "\n",
        "\n",
        "**By: [Fabio Ceruti](https://www.linkedin.com/in/fabio-ceruti/)**\n",
        "\n",
        "[GitHub](https://github.com/fabiocceruti) | [LinkedIn](https://www.linkedin.com/in/fabio-ceruti/) | [Medium](https://fabiocceruti.medium.com/) \n",
        "\n",
        "**OBS: Para melhor visualização do projeto recomendo o visualizar dentro do ambiente do [Google Colab](https://colab.research.google.com/)**\n",
        "\n",
        "---"
      ]
    },
    {
      "cell_type": "markdown",
      "metadata": {
        "id": "IR56trFcPcC1"
      },
      "source": [
        "# Churn Prediction\n",
        "\n",
        "*Churn rate*, ou simplesmente *churn*, representa a taxa de evasão da sua base de clientes. Em serviços como Spotify ou Netflix, ela representaria a taxa de cancelamento de assinaturas.\n",
        "\n",
        "<p align=center>\n",
        "<img src=\"https://raw.githubusercontent.com/carlosfab/dsnp2/master/img/churnrate.jpg\" width=\"60%\"></p>\n",
        "\n",
        "Ela é de extrema importância para a administração e sua análise ao longo do tempo pode mostrar que existe algum problema que deve ser atacado.\n",
        "\n",
        "*Churn* também pode ser usado para identificar potenciais cancelamentos, com um tempo de antecedência, e promover ações direcionadas para tentar reter tais clientes. Essa métrica deve receber atenção pelo fato de que o Custo de Aquisição de Cliente (CAC) é normalmente mais alto que o custo para mantê-los. Ou seja, um alto valor para o *churn rate* é o que não desejamos."
      ]
    },
    {
      "cell_type": "markdown",
      "metadata": {
        "id": "0HVmpIxQWT4Y"
      },
      "source": [
        "## Aquisição dos Dados\n",
        "\n",
        "Os dados utilizados neste projeto foram originalmente disponibilizados na [plataforma de ensino da IBM Developer](https://developer.ibm.com/technologies/data-science/patterns/predict-customer-churn-using-watson-studio-and-jupyter-notebooks/#), e tratam de um problema típico de uma companhia de telecomunicações. O *dataset* completo pode ser encontrado [neste link](https://raw.githubusercontent.com/carlosfab/dsnp2/master/datasets/WA_Fn-UseC_-Telco-Customer-Churn.csv).\n",
        "\n",
        "Dicionário de variáveis:\n",
        " * customerID - Código de identificação do consumidor;\n",
        " * gender - Gênero do consumidor;\n",
        " * SeniorCitizen - Consumidor aposentado;\n",
        " * Partner - Cliente casado;\n",
        " * tenure - Quantos meses a pessoa é cliente da empresa;\n",
        " * PhoneService - Possui serviço telefônico;\n",
        " * MultipleLines - Possui múltiplas linhas telefônicas;\n",
        " * InternetService - Qual provedor de serviço de internet;\n",
        " * OnlineSecurity - Possui serviço de segurança online;\n",
        " * OnlineBackup - Possui serviço de backup online atividado; \n",
        " * DeviceProtection - does the client have equipment insurance (Yes, No, No internet service)\n",
        " * TechSupport - Possui serviço de suporte técnico ativdado; \n",
        " * StreamingTV - Possui streaming de TV ativado; \n",
        " * StreamingMovies - Possui serviço de streaming de Filmes ativado;\n",
        " * Contract - Tipo do contrato do consumidor; \n",
        "PaperlessBilling - Cliente utiliza faturamento sem papel; \n",
        " * PaymentMethod - Método de pagamento;\n",
        " * MonthlyCharges - Pagamento mensal atual;\n",
        " * TotalCharges - Valor total que o cliente pagou pelos serviços durante todo o tempo;\n",
        " * Churn - Cliente abandonou o serviço.\n",
        "\n",
        "O próximo passo é importar as bibliotecas necessárias para o projeto e carregar o dataset.\n"
      ]
    },
    {
      "cell_type": "code",
      "metadata": {
        "id": "oQ4bNy7udtEE"
      },
      "source": [
        "# importar os pacotes necessários\n",
        "import pandas as pd\n",
        "import matplotlib.pyplot as plt\n",
        "import seaborn as sns\n",
        "from sklearn.preprocessing import StandardScaler, LabelEncoder\n",
        "from sklearn.model_selection import train_test_split, GridSearchCV, KFold, cross_val_score\n",
        "from sklearn.metrics import roc_auc_score, confusion_matrix, classification_report, plot_confusion_matrix\n",
        "from imblearn.under_sampling import RandomUnderSampler\n",
        "from sklearn.pipeline import make_pipeline\n",
        "from sklearn.compose import ColumnTransformer\n",
        "import numpy as np\n",
        "\n",
        "#Ignorando warnings\n",
        "from warnings import simplefilter\n",
        "simplefilter(action='ignore', category=FutureWarning)"
      ],
      "execution_count": 84,
      "outputs": []
    },
    {
      "cell_type": "code",
      "metadata": {
        "id": "DSmifrHQZ0fn"
      },
      "source": [
        "# importar os dados\n",
        "DATA_PATH = \"https://raw.githubusercontent.com/carlosfab/dsnp2/master/datasets/WA_Fn-UseC_-Telco-Customer-Churn.csv\"\n",
        "df = pd.read_csv(DATA_PATH)\n"
      ],
      "execution_count": 2,
      "outputs": []
    },
    {
      "cell_type": "markdown",
      "metadata": {
        "id": "_MAdJHLeaHPP"
      },
      "source": [
        "## Análise explorátoria dos dados\n",
        "\n",
        "Este passo é importante para entendermos a estrutura do dataset e identificarmos se é necessário realizarmos alguma correção nos dados.\n",
        "\n",
        "O primeiro passo é verificarmos a quantidade de dados e variáveis que existem no dataset."
      ]
    },
    {
      "cell_type": "code",
      "metadata": {
        "colab": {
          "base_uri": "https://localhost:8080/"
        },
        "id": "C3DwgMROaXSD",
        "outputId": "c9155963-b991-4b50-95b5-c7a6f0a0d6b8"
      },
      "source": [
        "#Imprimindo a quantidade de dados e variáveis\n",
        "print(\"Quantidade de dados:\", df.shape[0])\n",
        "print(\"Quantidade de variáveis:\", df.shape[1])"
      ],
      "execution_count": 3,
      "outputs": [
        {
          "output_type": "stream",
          "text": [
            "Quantidade de dados: 7043\n",
            "Quantidade de variáveis: 21\n"
          ],
          "name": "stdout"
        }
      ]
    },
    {
      "cell_type": "markdown",
      "metadata": {
        "id": "MRKi3R-Pan-m"
      },
      "source": [
        "Vamos avaliar o 5 primeiros e últimos dados."
      ]
    },
    {
      "cell_type": "code",
      "metadata": {
        "colab": {
          "base_uri": "https://localhost:8080/",
          "height": 309
        },
        "id": "NyPGDxExanHc",
        "outputId": "ac7ce4da-abf3-44ad-b7e7-a3b97723b5f0"
      },
      "source": [
        "#Imprimindo os 5 primeiros dados\n",
        "df.head()"
      ],
      "execution_count": 4,
      "outputs": [
        {
          "output_type": "execute_result",
          "data": {
            "text/html": [
              "<div>\n",
              "<style scoped>\n",
              "    .dataframe tbody tr th:only-of-type {\n",
              "        vertical-align: middle;\n",
              "    }\n",
              "\n",
              "    .dataframe tbody tr th {\n",
              "        vertical-align: top;\n",
              "    }\n",
              "\n",
              "    .dataframe thead th {\n",
              "        text-align: right;\n",
              "    }\n",
              "</style>\n",
              "<table border=\"1\" class=\"dataframe\">\n",
              "  <thead>\n",
              "    <tr style=\"text-align: right;\">\n",
              "      <th></th>\n",
              "      <th>customerID</th>\n",
              "      <th>gender</th>\n",
              "      <th>SeniorCitizen</th>\n",
              "      <th>Partner</th>\n",
              "      <th>Dependents</th>\n",
              "      <th>tenure</th>\n",
              "      <th>PhoneService</th>\n",
              "      <th>MultipleLines</th>\n",
              "      <th>InternetService</th>\n",
              "      <th>OnlineSecurity</th>\n",
              "      <th>OnlineBackup</th>\n",
              "      <th>DeviceProtection</th>\n",
              "      <th>TechSupport</th>\n",
              "      <th>StreamingTV</th>\n",
              "      <th>StreamingMovies</th>\n",
              "      <th>Contract</th>\n",
              "      <th>PaperlessBilling</th>\n",
              "      <th>PaymentMethod</th>\n",
              "      <th>MonthlyCharges</th>\n",
              "      <th>TotalCharges</th>\n",
              "      <th>Churn</th>\n",
              "    </tr>\n",
              "  </thead>\n",
              "  <tbody>\n",
              "    <tr>\n",
              "      <th>0</th>\n",
              "      <td>7590-VHVEG</td>\n",
              "      <td>Female</td>\n",
              "      <td>0</td>\n",
              "      <td>Yes</td>\n",
              "      <td>No</td>\n",
              "      <td>1</td>\n",
              "      <td>No</td>\n",
              "      <td>No phone service</td>\n",
              "      <td>DSL</td>\n",
              "      <td>No</td>\n",
              "      <td>Yes</td>\n",
              "      <td>No</td>\n",
              "      <td>No</td>\n",
              "      <td>No</td>\n",
              "      <td>No</td>\n",
              "      <td>Month-to-month</td>\n",
              "      <td>Yes</td>\n",
              "      <td>Electronic check</td>\n",
              "      <td>29.85</td>\n",
              "      <td>29.85</td>\n",
              "      <td>No</td>\n",
              "    </tr>\n",
              "    <tr>\n",
              "      <th>1</th>\n",
              "      <td>5575-GNVDE</td>\n",
              "      <td>Male</td>\n",
              "      <td>0</td>\n",
              "      <td>No</td>\n",
              "      <td>No</td>\n",
              "      <td>34</td>\n",
              "      <td>Yes</td>\n",
              "      <td>No</td>\n",
              "      <td>DSL</td>\n",
              "      <td>Yes</td>\n",
              "      <td>No</td>\n",
              "      <td>Yes</td>\n",
              "      <td>No</td>\n",
              "      <td>No</td>\n",
              "      <td>No</td>\n",
              "      <td>One year</td>\n",
              "      <td>No</td>\n",
              "      <td>Mailed check</td>\n",
              "      <td>56.95</td>\n",
              "      <td>1889.5</td>\n",
              "      <td>No</td>\n",
              "    </tr>\n",
              "    <tr>\n",
              "      <th>2</th>\n",
              "      <td>3668-QPYBK</td>\n",
              "      <td>Male</td>\n",
              "      <td>0</td>\n",
              "      <td>No</td>\n",
              "      <td>No</td>\n",
              "      <td>2</td>\n",
              "      <td>Yes</td>\n",
              "      <td>No</td>\n",
              "      <td>DSL</td>\n",
              "      <td>Yes</td>\n",
              "      <td>Yes</td>\n",
              "      <td>No</td>\n",
              "      <td>No</td>\n",
              "      <td>No</td>\n",
              "      <td>No</td>\n",
              "      <td>Month-to-month</td>\n",
              "      <td>Yes</td>\n",
              "      <td>Mailed check</td>\n",
              "      <td>53.85</td>\n",
              "      <td>108.15</td>\n",
              "      <td>Yes</td>\n",
              "    </tr>\n",
              "    <tr>\n",
              "      <th>3</th>\n",
              "      <td>7795-CFOCW</td>\n",
              "      <td>Male</td>\n",
              "      <td>0</td>\n",
              "      <td>No</td>\n",
              "      <td>No</td>\n",
              "      <td>45</td>\n",
              "      <td>No</td>\n",
              "      <td>No phone service</td>\n",
              "      <td>DSL</td>\n",
              "      <td>Yes</td>\n",
              "      <td>No</td>\n",
              "      <td>Yes</td>\n",
              "      <td>Yes</td>\n",
              "      <td>No</td>\n",
              "      <td>No</td>\n",
              "      <td>One year</td>\n",
              "      <td>No</td>\n",
              "      <td>Bank transfer (automatic)</td>\n",
              "      <td>42.30</td>\n",
              "      <td>1840.75</td>\n",
              "      <td>No</td>\n",
              "    </tr>\n",
              "    <tr>\n",
              "      <th>4</th>\n",
              "      <td>9237-HQITU</td>\n",
              "      <td>Female</td>\n",
              "      <td>0</td>\n",
              "      <td>No</td>\n",
              "      <td>No</td>\n",
              "      <td>2</td>\n",
              "      <td>Yes</td>\n",
              "      <td>No</td>\n",
              "      <td>Fiber optic</td>\n",
              "      <td>No</td>\n",
              "      <td>No</td>\n",
              "      <td>No</td>\n",
              "      <td>No</td>\n",
              "      <td>No</td>\n",
              "      <td>No</td>\n",
              "      <td>Month-to-month</td>\n",
              "      <td>Yes</td>\n",
              "      <td>Electronic check</td>\n",
              "      <td>70.70</td>\n",
              "      <td>151.65</td>\n",
              "      <td>Yes</td>\n",
              "    </tr>\n",
              "  </tbody>\n",
              "</table>\n",
              "</div>"
            ],
            "text/plain": [
              "   customerID  gender  SeniorCitizen  ... MonthlyCharges TotalCharges  Churn\n",
              "0  7590-VHVEG  Female              0  ...          29.85        29.85     No\n",
              "1  5575-GNVDE    Male              0  ...          56.95       1889.5     No\n",
              "2  3668-QPYBK    Male              0  ...          53.85       108.15    Yes\n",
              "3  7795-CFOCW    Male              0  ...          42.30      1840.75     No\n",
              "4  9237-HQITU  Female              0  ...          70.70       151.65    Yes\n",
              "\n",
              "[5 rows x 21 columns]"
            ]
          },
          "metadata": {
            "tags": []
          },
          "execution_count": 4
        }
      ]
    },
    {
      "cell_type": "code",
      "metadata": {
        "colab": {
          "base_uri": "https://localhost:8080/",
          "height": 309
        },
        "id": "PtbUejCSbIC4",
        "outputId": "0478d7f5-543f-4a66-bc85-07e1ca88aa55"
      },
      "source": [
        "#Imprimindo os 5 últimos dados\n",
        "df.tail()"
      ],
      "execution_count": 5,
      "outputs": [
        {
          "output_type": "execute_result",
          "data": {
            "text/html": [
              "<div>\n",
              "<style scoped>\n",
              "    .dataframe tbody tr th:only-of-type {\n",
              "        vertical-align: middle;\n",
              "    }\n",
              "\n",
              "    .dataframe tbody tr th {\n",
              "        vertical-align: top;\n",
              "    }\n",
              "\n",
              "    .dataframe thead th {\n",
              "        text-align: right;\n",
              "    }\n",
              "</style>\n",
              "<table border=\"1\" class=\"dataframe\">\n",
              "  <thead>\n",
              "    <tr style=\"text-align: right;\">\n",
              "      <th></th>\n",
              "      <th>customerID</th>\n",
              "      <th>gender</th>\n",
              "      <th>SeniorCitizen</th>\n",
              "      <th>Partner</th>\n",
              "      <th>Dependents</th>\n",
              "      <th>tenure</th>\n",
              "      <th>PhoneService</th>\n",
              "      <th>MultipleLines</th>\n",
              "      <th>InternetService</th>\n",
              "      <th>OnlineSecurity</th>\n",
              "      <th>OnlineBackup</th>\n",
              "      <th>DeviceProtection</th>\n",
              "      <th>TechSupport</th>\n",
              "      <th>StreamingTV</th>\n",
              "      <th>StreamingMovies</th>\n",
              "      <th>Contract</th>\n",
              "      <th>PaperlessBilling</th>\n",
              "      <th>PaymentMethod</th>\n",
              "      <th>MonthlyCharges</th>\n",
              "      <th>TotalCharges</th>\n",
              "      <th>Churn</th>\n",
              "    </tr>\n",
              "  </thead>\n",
              "  <tbody>\n",
              "    <tr>\n",
              "      <th>7038</th>\n",
              "      <td>6840-RESVB</td>\n",
              "      <td>Male</td>\n",
              "      <td>0</td>\n",
              "      <td>Yes</td>\n",
              "      <td>Yes</td>\n",
              "      <td>24</td>\n",
              "      <td>Yes</td>\n",
              "      <td>Yes</td>\n",
              "      <td>DSL</td>\n",
              "      <td>Yes</td>\n",
              "      <td>No</td>\n",
              "      <td>Yes</td>\n",
              "      <td>Yes</td>\n",
              "      <td>Yes</td>\n",
              "      <td>Yes</td>\n",
              "      <td>One year</td>\n",
              "      <td>Yes</td>\n",
              "      <td>Mailed check</td>\n",
              "      <td>84.80</td>\n",
              "      <td>1990.5</td>\n",
              "      <td>No</td>\n",
              "    </tr>\n",
              "    <tr>\n",
              "      <th>7039</th>\n",
              "      <td>2234-XADUH</td>\n",
              "      <td>Female</td>\n",
              "      <td>0</td>\n",
              "      <td>Yes</td>\n",
              "      <td>Yes</td>\n",
              "      <td>72</td>\n",
              "      <td>Yes</td>\n",
              "      <td>Yes</td>\n",
              "      <td>Fiber optic</td>\n",
              "      <td>No</td>\n",
              "      <td>Yes</td>\n",
              "      <td>Yes</td>\n",
              "      <td>No</td>\n",
              "      <td>Yes</td>\n",
              "      <td>Yes</td>\n",
              "      <td>One year</td>\n",
              "      <td>Yes</td>\n",
              "      <td>Credit card (automatic)</td>\n",
              "      <td>103.20</td>\n",
              "      <td>7362.9</td>\n",
              "      <td>No</td>\n",
              "    </tr>\n",
              "    <tr>\n",
              "      <th>7040</th>\n",
              "      <td>4801-JZAZL</td>\n",
              "      <td>Female</td>\n",
              "      <td>0</td>\n",
              "      <td>Yes</td>\n",
              "      <td>Yes</td>\n",
              "      <td>11</td>\n",
              "      <td>No</td>\n",
              "      <td>No phone service</td>\n",
              "      <td>DSL</td>\n",
              "      <td>Yes</td>\n",
              "      <td>No</td>\n",
              "      <td>No</td>\n",
              "      <td>No</td>\n",
              "      <td>No</td>\n",
              "      <td>No</td>\n",
              "      <td>Month-to-month</td>\n",
              "      <td>Yes</td>\n",
              "      <td>Electronic check</td>\n",
              "      <td>29.60</td>\n",
              "      <td>346.45</td>\n",
              "      <td>No</td>\n",
              "    </tr>\n",
              "    <tr>\n",
              "      <th>7041</th>\n",
              "      <td>8361-LTMKD</td>\n",
              "      <td>Male</td>\n",
              "      <td>1</td>\n",
              "      <td>Yes</td>\n",
              "      <td>No</td>\n",
              "      <td>4</td>\n",
              "      <td>Yes</td>\n",
              "      <td>Yes</td>\n",
              "      <td>Fiber optic</td>\n",
              "      <td>No</td>\n",
              "      <td>No</td>\n",
              "      <td>No</td>\n",
              "      <td>No</td>\n",
              "      <td>No</td>\n",
              "      <td>No</td>\n",
              "      <td>Month-to-month</td>\n",
              "      <td>Yes</td>\n",
              "      <td>Mailed check</td>\n",
              "      <td>74.40</td>\n",
              "      <td>306.6</td>\n",
              "      <td>Yes</td>\n",
              "    </tr>\n",
              "    <tr>\n",
              "      <th>7042</th>\n",
              "      <td>3186-AJIEK</td>\n",
              "      <td>Male</td>\n",
              "      <td>0</td>\n",
              "      <td>No</td>\n",
              "      <td>No</td>\n",
              "      <td>66</td>\n",
              "      <td>Yes</td>\n",
              "      <td>No</td>\n",
              "      <td>Fiber optic</td>\n",
              "      <td>Yes</td>\n",
              "      <td>No</td>\n",
              "      <td>Yes</td>\n",
              "      <td>Yes</td>\n",
              "      <td>Yes</td>\n",
              "      <td>Yes</td>\n",
              "      <td>Two year</td>\n",
              "      <td>Yes</td>\n",
              "      <td>Bank transfer (automatic)</td>\n",
              "      <td>105.65</td>\n",
              "      <td>6844.5</td>\n",
              "      <td>No</td>\n",
              "    </tr>\n",
              "  </tbody>\n",
              "</table>\n",
              "</div>"
            ],
            "text/plain": [
              "      customerID  gender  SeniorCitizen  ... MonthlyCharges TotalCharges  Churn\n",
              "7038  6840-RESVB    Male              0  ...          84.80       1990.5     No\n",
              "7039  2234-XADUH  Female              0  ...         103.20       7362.9     No\n",
              "7040  4801-JZAZL  Female              0  ...          29.60       346.45     No\n",
              "7041  8361-LTMKD    Male              1  ...          74.40        306.6    Yes\n",
              "7042  3186-AJIEK    Male              0  ...         105.65       6844.5     No\n",
              "\n",
              "[5 rows x 21 columns]"
            ]
          },
          "metadata": {
            "tags": []
          },
          "execution_count": 5
        }
      ]
    },
    {
      "cell_type": "markdown",
      "metadata": {
        "id": "3fYqefwKbQXE"
      },
      "source": [
        "O próximo passo é avaliarmos como estão estruturados as variáveis com o intuito de entendermos os tipos de cada variável (categórica e numérica), se existe valores ausentes no banco de dados e etc.\n",
        "\n",
        "Para facilitar esta visualização, vamos criar uma função que transforma as informações das variáveis em um dataframe."
      ]
    },
    {
      "cell_type": "code",
      "metadata": {
        "id": "YG0lfluhG5rP"
      },
      "source": [
        "def Map_Var_DF (features, df):\n",
        "  #Criando um dicionário para receber as variáveis\n",
        "  dict_var = {\"feature\": [],\n",
        "              \"Tipo\": [],\n",
        "              \"Categórico\": [],\n",
        "              \"Binário\": [],\n",
        "              \"Valores Categóricos\": [],\n",
        "              \"Min\": [],\n",
        "              \"Max\": [],\n",
        "              \"Qtd de Nulos\": []}\n",
        "\n",
        "  #Criando um loop a partir das features\n",
        "  for feature in features:\n",
        "\n",
        "    #Armazenando o nome da feature\n",
        "    dict_var['feature'].append(feature)\n",
        "\n",
        "    #Armazenando o tipo da variável\n",
        "    dict_var['Tipo'].append(df[feature].dtypes)\n",
        "\n",
        "    #Armazenando os valores mínimos\n",
        "    dict_var['Min'].append(df[feature].min())\n",
        "\n",
        "    #Armazenando os valores máximos\n",
        "    dict_var['Max'].append(df[feature].max())\n",
        "\n",
        "    #Armazenando a quantidade de valores nulos\n",
        "    dict_var['Qtd de Nulos'].append(df[feature].isnull().sum())\n",
        "\n",
        "    if ((df[feature].dtype == \"O\") or (df[feature].nunique() == 2)) and (feature != \"TotalCharges\"):\n",
        "\n",
        "      #Atribuindo o valor 1 se a variável for categórica\n",
        "      dict_var['Categórico'].append(1)\n",
        "\n",
        "      #Armazenando os valores categóricos\n",
        "      dict_var['Valores Categóricos'].append(df[feature].value_counts().index.to_list())\n",
        "\n",
        "      if (df[feature].nunique() == 2):\n",
        "\n",
        "        #Atribuindo o valor 1 se a variável for binária\n",
        "        dict_var['Binário'].append(1)\n",
        "        \n",
        "      else:\n",
        "\n",
        "        #Atribuindo o valor 0 se a variável não for binária\n",
        "        dict_var['Binário'].append(0)\n",
        "\n",
        "    else:\n",
        "\n",
        "      #Atribuindo o valor 0 se a variável não for categórica\n",
        "      dict_var['Categórico'].append(0)\n",
        "\n",
        "      #Armazenando os valores categóricos\n",
        "      dict_var['Valores Categóricos'].append([\"N/A\"])\n",
        "\n",
        "      #Atribuindo o valor 0 se a variável não for binária\n",
        "      dict_var['Binário'].append(0)\n",
        "      \n",
        "  #Transformando o dicionário em dataframe\n",
        "  df_var = pd.DataFrame.from_dict(data = dict_var)\n",
        "\n",
        "  #Imprimindo o dataframe\n",
        "  return df_var"
      ],
      "execution_count": 6,
      "outputs": []
    },
    {
      "cell_type": "markdown",
      "metadata": {
        "id": "GMCXPUkaU8-p"
      },
      "source": [
        "Vamos criar o dataframe das features do dataset. \n",
        "\n",
        "Vale destacar que não consideramos a variável **customerID**, porque não agrega valor no nosso modelo de Machine Learning e na análise exploratória, já que serve para identificar um consumidor de forma individual."
      ]
    },
    {
      "cell_type": "code",
      "metadata": {
        "id": "ru9yZ697c-5e",
        "colab": {
          "base_uri": "https://localhost:8080/",
          "height": 662
        },
        "outputId": "f373c5fa-b421-44ec-82f5-d14ed5a01534"
      },
      "source": [
        "#Armazenando os nomes das variáveis\n",
        "features = df.columns.to_list()\n",
        "\n",
        "#Removendo a feature 'CustomerID'\n",
        "features.remove('customerID')\n",
        "\n",
        "#Dataframe da variável\n",
        "df_var = Map_Var_DF(features = features, df = df)\n",
        "\n",
        "#Imprimindo o dataframe\n",
        "df_var"
      ],
      "execution_count": 7,
      "outputs": [
        {
          "output_type": "execute_result",
          "data": {
            "text/html": [
              "<div>\n",
              "<style scoped>\n",
              "    .dataframe tbody tr th:only-of-type {\n",
              "        vertical-align: middle;\n",
              "    }\n",
              "\n",
              "    .dataframe tbody tr th {\n",
              "        vertical-align: top;\n",
              "    }\n",
              "\n",
              "    .dataframe thead th {\n",
              "        text-align: right;\n",
              "    }\n",
              "</style>\n",
              "<table border=\"1\" class=\"dataframe\">\n",
              "  <thead>\n",
              "    <tr style=\"text-align: right;\">\n",
              "      <th></th>\n",
              "      <th>feature</th>\n",
              "      <th>Tipo</th>\n",
              "      <th>Categórico</th>\n",
              "      <th>Binário</th>\n",
              "      <th>Valores Categóricos</th>\n",
              "      <th>Min</th>\n",
              "      <th>Max</th>\n",
              "      <th>Qtd de Nulos</th>\n",
              "    </tr>\n",
              "  </thead>\n",
              "  <tbody>\n",
              "    <tr>\n",
              "      <th>0</th>\n",
              "      <td>gender</td>\n",
              "      <td>object</td>\n",
              "      <td>1</td>\n",
              "      <td>1</td>\n",
              "      <td>[Male, Female]</td>\n",
              "      <td>Female</td>\n",
              "      <td>Male</td>\n",
              "      <td>0</td>\n",
              "    </tr>\n",
              "    <tr>\n",
              "      <th>1</th>\n",
              "      <td>SeniorCitizen</td>\n",
              "      <td>int64</td>\n",
              "      <td>1</td>\n",
              "      <td>1</td>\n",
              "      <td>[0, 1]</td>\n",
              "      <td>0</td>\n",
              "      <td>1</td>\n",
              "      <td>0</td>\n",
              "    </tr>\n",
              "    <tr>\n",
              "      <th>2</th>\n",
              "      <td>Partner</td>\n",
              "      <td>object</td>\n",
              "      <td>1</td>\n",
              "      <td>1</td>\n",
              "      <td>[No, Yes]</td>\n",
              "      <td>No</td>\n",
              "      <td>Yes</td>\n",
              "      <td>0</td>\n",
              "    </tr>\n",
              "    <tr>\n",
              "      <th>3</th>\n",
              "      <td>Dependents</td>\n",
              "      <td>object</td>\n",
              "      <td>1</td>\n",
              "      <td>1</td>\n",
              "      <td>[No, Yes]</td>\n",
              "      <td>No</td>\n",
              "      <td>Yes</td>\n",
              "      <td>0</td>\n",
              "    </tr>\n",
              "    <tr>\n",
              "      <th>4</th>\n",
              "      <td>tenure</td>\n",
              "      <td>int64</td>\n",
              "      <td>0</td>\n",
              "      <td>0</td>\n",
              "      <td>[N/A]</td>\n",
              "      <td>0</td>\n",
              "      <td>72</td>\n",
              "      <td>0</td>\n",
              "    </tr>\n",
              "    <tr>\n",
              "      <th>5</th>\n",
              "      <td>PhoneService</td>\n",
              "      <td>object</td>\n",
              "      <td>1</td>\n",
              "      <td>1</td>\n",
              "      <td>[Yes, No]</td>\n",
              "      <td>No</td>\n",
              "      <td>Yes</td>\n",
              "      <td>0</td>\n",
              "    </tr>\n",
              "    <tr>\n",
              "      <th>6</th>\n",
              "      <td>MultipleLines</td>\n",
              "      <td>object</td>\n",
              "      <td>1</td>\n",
              "      <td>0</td>\n",
              "      <td>[No, Yes, No phone service]</td>\n",
              "      <td>No</td>\n",
              "      <td>Yes</td>\n",
              "      <td>0</td>\n",
              "    </tr>\n",
              "    <tr>\n",
              "      <th>7</th>\n",
              "      <td>InternetService</td>\n",
              "      <td>object</td>\n",
              "      <td>1</td>\n",
              "      <td>0</td>\n",
              "      <td>[Fiber optic, DSL, No]</td>\n",
              "      <td>DSL</td>\n",
              "      <td>No</td>\n",
              "      <td>0</td>\n",
              "    </tr>\n",
              "    <tr>\n",
              "      <th>8</th>\n",
              "      <td>OnlineSecurity</td>\n",
              "      <td>object</td>\n",
              "      <td>1</td>\n",
              "      <td>0</td>\n",
              "      <td>[No, Yes, No internet service]</td>\n",
              "      <td>No</td>\n",
              "      <td>Yes</td>\n",
              "      <td>0</td>\n",
              "    </tr>\n",
              "    <tr>\n",
              "      <th>9</th>\n",
              "      <td>OnlineBackup</td>\n",
              "      <td>object</td>\n",
              "      <td>1</td>\n",
              "      <td>0</td>\n",
              "      <td>[No, Yes, No internet service]</td>\n",
              "      <td>No</td>\n",
              "      <td>Yes</td>\n",
              "      <td>0</td>\n",
              "    </tr>\n",
              "    <tr>\n",
              "      <th>10</th>\n",
              "      <td>DeviceProtection</td>\n",
              "      <td>object</td>\n",
              "      <td>1</td>\n",
              "      <td>0</td>\n",
              "      <td>[No, Yes, No internet service]</td>\n",
              "      <td>No</td>\n",
              "      <td>Yes</td>\n",
              "      <td>0</td>\n",
              "    </tr>\n",
              "    <tr>\n",
              "      <th>11</th>\n",
              "      <td>TechSupport</td>\n",
              "      <td>object</td>\n",
              "      <td>1</td>\n",
              "      <td>0</td>\n",
              "      <td>[No, Yes, No internet service]</td>\n",
              "      <td>No</td>\n",
              "      <td>Yes</td>\n",
              "      <td>0</td>\n",
              "    </tr>\n",
              "    <tr>\n",
              "      <th>12</th>\n",
              "      <td>StreamingTV</td>\n",
              "      <td>object</td>\n",
              "      <td>1</td>\n",
              "      <td>0</td>\n",
              "      <td>[No, Yes, No internet service]</td>\n",
              "      <td>No</td>\n",
              "      <td>Yes</td>\n",
              "      <td>0</td>\n",
              "    </tr>\n",
              "    <tr>\n",
              "      <th>13</th>\n",
              "      <td>StreamingMovies</td>\n",
              "      <td>object</td>\n",
              "      <td>1</td>\n",
              "      <td>0</td>\n",
              "      <td>[No, Yes, No internet service]</td>\n",
              "      <td>No</td>\n",
              "      <td>Yes</td>\n",
              "      <td>0</td>\n",
              "    </tr>\n",
              "    <tr>\n",
              "      <th>14</th>\n",
              "      <td>Contract</td>\n",
              "      <td>object</td>\n",
              "      <td>1</td>\n",
              "      <td>0</td>\n",
              "      <td>[Month-to-month, Two year, One year]</td>\n",
              "      <td>Month-to-month</td>\n",
              "      <td>Two year</td>\n",
              "      <td>0</td>\n",
              "    </tr>\n",
              "    <tr>\n",
              "      <th>15</th>\n",
              "      <td>PaperlessBilling</td>\n",
              "      <td>object</td>\n",
              "      <td>1</td>\n",
              "      <td>1</td>\n",
              "      <td>[Yes, No]</td>\n",
              "      <td>No</td>\n",
              "      <td>Yes</td>\n",
              "      <td>0</td>\n",
              "    </tr>\n",
              "    <tr>\n",
              "      <th>16</th>\n",
              "      <td>PaymentMethod</td>\n",
              "      <td>object</td>\n",
              "      <td>1</td>\n",
              "      <td>0</td>\n",
              "      <td>[Electronic check, Mailed check, Bank transfer...</td>\n",
              "      <td>Bank transfer (automatic)</td>\n",
              "      <td>Mailed check</td>\n",
              "      <td>0</td>\n",
              "    </tr>\n",
              "    <tr>\n",
              "      <th>17</th>\n",
              "      <td>MonthlyCharges</td>\n",
              "      <td>float64</td>\n",
              "      <td>0</td>\n",
              "      <td>0</td>\n",
              "      <td>[N/A]</td>\n",
              "      <td>18.25</td>\n",
              "      <td>118.75</td>\n",
              "      <td>0</td>\n",
              "    </tr>\n",
              "    <tr>\n",
              "      <th>18</th>\n",
              "      <td>TotalCharges</td>\n",
              "      <td>object</td>\n",
              "      <td>0</td>\n",
              "      <td>0</td>\n",
              "      <td>[N/A]</td>\n",
              "      <td></td>\n",
              "      <td>999.9</td>\n",
              "      <td>0</td>\n",
              "    </tr>\n",
              "    <tr>\n",
              "      <th>19</th>\n",
              "      <td>Churn</td>\n",
              "      <td>object</td>\n",
              "      <td>1</td>\n",
              "      <td>1</td>\n",
              "      <td>[No, Yes]</td>\n",
              "      <td>No</td>\n",
              "      <td>Yes</td>\n",
              "      <td>0</td>\n",
              "    </tr>\n",
              "  </tbody>\n",
              "</table>\n",
              "</div>"
            ],
            "text/plain": [
              "             feature     Tipo  ...           Max  Qtd de Nulos\n",
              "0             gender   object  ...          Male             0\n",
              "1      SeniorCitizen    int64  ...             1             0\n",
              "2            Partner   object  ...           Yes             0\n",
              "3         Dependents   object  ...           Yes             0\n",
              "4             tenure    int64  ...            72             0\n",
              "5       PhoneService   object  ...           Yes             0\n",
              "6      MultipleLines   object  ...           Yes             0\n",
              "7    InternetService   object  ...            No             0\n",
              "8     OnlineSecurity   object  ...           Yes             0\n",
              "9       OnlineBackup   object  ...           Yes             0\n",
              "10  DeviceProtection   object  ...           Yes             0\n",
              "11       TechSupport   object  ...           Yes             0\n",
              "12       StreamingTV   object  ...           Yes             0\n",
              "13   StreamingMovies   object  ...           Yes             0\n",
              "14          Contract   object  ...      Two year             0\n",
              "15  PaperlessBilling   object  ...           Yes             0\n",
              "16     PaymentMethod   object  ...  Mailed check             0\n",
              "17    MonthlyCharges  float64  ...        118.75             0\n",
              "18      TotalCharges   object  ...         999.9             0\n",
              "19             Churn   object  ...           Yes             0\n",
              "\n",
              "[20 rows x 8 columns]"
            ]
          },
          "metadata": {
            "tags": []
          },
          "execution_count": 7
        }
      ]
    },
    {
      "cell_type": "markdown",
      "metadata": {
        "id": "kbdm2Cv8Vic2"
      },
      "source": [
        "A partir do dataframe gerado pelas informações das features do dataset, podemos notar que:\n",
        "* Maior parte das features são do tipo categórica. É importante ressaltar que a variável binária também é do tipo categórica. Portanto, estas variáveis deverão passar por um tratamento para serem convertidas em valores numéricos antes de aplicar o modelo de Machine Learning;\n",
        "* Podemos converter os valores \"No internet service\" e \"No phone service\" em \"No\", transformando as variáveis em binárias, já que a partir de outras variáveis é possível transmitir a mesma informação; \n",
        "* Não temos valores ausentes, o que é um ponto positivo;\n",
        "* A variável **TotalCharges** está classificada como string ao invés de float e podemos notar que seu valor mínimo está com aspas vazias (\" \"). Portanto, vamos ter que avaliar uma forma de substituir estes valores com aspas por numéricos e converter esta variável para float;\n",
        "* A variável **SeniorCitizen**, apesar de estar classificada como inteiro, pode ser considerada como categórica, já que está tratada e possui dois valores numéricos para representar se o consumidor está aposentado (1) ou não (0);\n",
        "* **Churn** é a variável alvo que queremos predizer através do modelo de Machine Learning.\n",
        "\n",
        "O próximo passo é realizarmos este tratamento."
      ]
    },
    {
      "cell_type": "markdown",
      "metadata": {
        "id": "MQr1S9AeYyIb"
      },
      "source": [
        "Vamos realizar a conversão dos valores \"No internet service\" e \"No phone service\" em \"No\", transformando as variáveis em binárias."
      ]
    },
    {
      "cell_type": "code",
      "metadata": {
        "id": "3s4O4HFnZZol"
      },
      "source": [
        "#Copiando o dataframe\n",
        "df_trat = df.copy()\n",
        "\n",
        "#Armazenando as variáveis categóricas\n",
        "cat_features = df_var[\"feature\"].loc[ df_var[\"Categórico\"] == 1 ].to_list()\n",
        "\n",
        "#Rodando o loop em relação a lista de features categóricas\n",
        "for cat_feature in cat_features:\n",
        "\n",
        "  #Convertendo os valores da feature \n",
        "  df_trat[cat_feature] = df_trat[cat_feature].apply(lambda x: \"No\" if x == \"No internet service\" else x)\n",
        "  df_trat[cat_feature] = df_trat[cat_feature].apply(lambda x: \"No\" if x == \"No phone service\" else x)"
      ],
      "execution_count": 8,
      "outputs": []
    },
    {
      "cell_type": "markdown",
      "metadata": {
        "id": "Znvvjlt_ddti"
      },
      "source": [
        "Vamos avaliar se existe alguma relação que possamos utilizar para preencher os valores com aspas (\" \") da variável **TotalCharges**. Portanto, vamos verificar os dados."
      ]
    },
    {
      "cell_type": "code",
      "metadata": {
        "colab": {
          "base_uri": "https://localhost:8080/",
          "height": 597
        },
        "id": "o4PGjd7Od4or",
        "outputId": "38cff3ca-b2cd-45c6-f170-3aa39b388090"
      },
      "source": [
        "#Imprimindo os valores com TotalCharges = \"\"\n",
        "df_trat.loc[ df_trat[\"TotalCharges\"] == \" \"]"
      ],
      "execution_count": 9,
      "outputs": [
        {
          "output_type": "execute_result",
          "data": {
            "text/html": [
              "<div>\n",
              "<style scoped>\n",
              "    .dataframe tbody tr th:only-of-type {\n",
              "        vertical-align: middle;\n",
              "    }\n",
              "\n",
              "    .dataframe tbody tr th {\n",
              "        vertical-align: top;\n",
              "    }\n",
              "\n",
              "    .dataframe thead th {\n",
              "        text-align: right;\n",
              "    }\n",
              "</style>\n",
              "<table border=\"1\" class=\"dataframe\">\n",
              "  <thead>\n",
              "    <tr style=\"text-align: right;\">\n",
              "      <th></th>\n",
              "      <th>customerID</th>\n",
              "      <th>gender</th>\n",
              "      <th>SeniorCitizen</th>\n",
              "      <th>Partner</th>\n",
              "      <th>Dependents</th>\n",
              "      <th>tenure</th>\n",
              "      <th>PhoneService</th>\n",
              "      <th>MultipleLines</th>\n",
              "      <th>InternetService</th>\n",
              "      <th>OnlineSecurity</th>\n",
              "      <th>OnlineBackup</th>\n",
              "      <th>DeviceProtection</th>\n",
              "      <th>TechSupport</th>\n",
              "      <th>StreamingTV</th>\n",
              "      <th>StreamingMovies</th>\n",
              "      <th>Contract</th>\n",
              "      <th>PaperlessBilling</th>\n",
              "      <th>PaymentMethod</th>\n",
              "      <th>MonthlyCharges</th>\n",
              "      <th>TotalCharges</th>\n",
              "      <th>Churn</th>\n",
              "    </tr>\n",
              "  </thead>\n",
              "  <tbody>\n",
              "    <tr>\n",
              "      <th>488</th>\n",
              "      <td>4472-LVYGI</td>\n",
              "      <td>Female</td>\n",
              "      <td>0</td>\n",
              "      <td>Yes</td>\n",
              "      <td>Yes</td>\n",
              "      <td>0</td>\n",
              "      <td>No</td>\n",
              "      <td>No</td>\n",
              "      <td>DSL</td>\n",
              "      <td>Yes</td>\n",
              "      <td>No</td>\n",
              "      <td>Yes</td>\n",
              "      <td>Yes</td>\n",
              "      <td>Yes</td>\n",
              "      <td>No</td>\n",
              "      <td>Two year</td>\n",
              "      <td>Yes</td>\n",
              "      <td>Bank transfer (automatic)</td>\n",
              "      <td>52.55</td>\n",
              "      <td></td>\n",
              "      <td>No</td>\n",
              "    </tr>\n",
              "    <tr>\n",
              "      <th>753</th>\n",
              "      <td>3115-CZMZD</td>\n",
              "      <td>Male</td>\n",
              "      <td>0</td>\n",
              "      <td>No</td>\n",
              "      <td>Yes</td>\n",
              "      <td>0</td>\n",
              "      <td>Yes</td>\n",
              "      <td>No</td>\n",
              "      <td>No</td>\n",
              "      <td>No</td>\n",
              "      <td>No</td>\n",
              "      <td>No</td>\n",
              "      <td>No</td>\n",
              "      <td>No</td>\n",
              "      <td>No</td>\n",
              "      <td>Two year</td>\n",
              "      <td>No</td>\n",
              "      <td>Mailed check</td>\n",
              "      <td>20.25</td>\n",
              "      <td></td>\n",
              "      <td>No</td>\n",
              "    </tr>\n",
              "    <tr>\n",
              "      <th>936</th>\n",
              "      <td>5709-LVOEQ</td>\n",
              "      <td>Female</td>\n",
              "      <td>0</td>\n",
              "      <td>Yes</td>\n",
              "      <td>Yes</td>\n",
              "      <td>0</td>\n",
              "      <td>Yes</td>\n",
              "      <td>No</td>\n",
              "      <td>DSL</td>\n",
              "      <td>Yes</td>\n",
              "      <td>Yes</td>\n",
              "      <td>Yes</td>\n",
              "      <td>No</td>\n",
              "      <td>Yes</td>\n",
              "      <td>Yes</td>\n",
              "      <td>Two year</td>\n",
              "      <td>No</td>\n",
              "      <td>Mailed check</td>\n",
              "      <td>80.85</td>\n",
              "      <td></td>\n",
              "      <td>No</td>\n",
              "    </tr>\n",
              "    <tr>\n",
              "      <th>1082</th>\n",
              "      <td>4367-NUYAO</td>\n",
              "      <td>Male</td>\n",
              "      <td>0</td>\n",
              "      <td>Yes</td>\n",
              "      <td>Yes</td>\n",
              "      <td>0</td>\n",
              "      <td>Yes</td>\n",
              "      <td>Yes</td>\n",
              "      <td>No</td>\n",
              "      <td>No</td>\n",
              "      <td>No</td>\n",
              "      <td>No</td>\n",
              "      <td>No</td>\n",
              "      <td>No</td>\n",
              "      <td>No</td>\n",
              "      <td>Two year</td>\n",
              "      <td>No</td>\n",
              "      <td>Mailed check</td>\n",
              "      <td>25.75</td>\n",
              "      <td></td>\n",
              "      <td>No</td>\n",
              "    </tr>\n",
              "    <tr>\n",
              "      <th>1340</th>\n",
              "      <td>1371-DWPAZ</td>\n",
              "      <td>Female</td>\n",
              "      <td>0</td>\n",
              "      <td>Yes</td>\n",
              "      <td>Yes</td>\n",
              "      <td>0</td>\n",
              "      <td>No</td>\n",
              "      <td>No</td>\n",
              "      <td>DSL</td>\n",
              "      <td>Yes</td>\n",
              "      <td>Yes</td>\n",
              "      <td>Yes</td>\n",
              "      <td>Yes</td>\n",
              "      <td>Yes</td>\n",
              "      <td>No</td>\n",
              "      <td>Two year</td>\n",
              "      <td>No</td>\n",
              "      <td>Credit card (automatic)</td>\n",
              "      <td>56.05</td>\n",
              "      <td></td>\n",
              "      <td>No</td>\n",
              "    </tr>\n",
              "    <tr>\n",
              "      <th>3331</th>\n",
              "      <td>7644-OMVMY</td>\n",
              "      <td>Male</td>\n",
              "      <td>0</td>\n",
              "      <td>Yes</td>\n",
              "      <td>Yes</td>\n",
              "      <td>0</td>\n",
              "      <td>Yes</td>\n",
              "      <td>No</td>\n",
              "      <td>No</td>\n",
              "      <td>No</td>\n",
              "      <td>No</td>\n",
              "      <td>No</td>\n",
              "      <td>No</td>\n",
              "      <td>No</td>\n",
              "      <td>No</td>\n",
              "      <td>Two year</td>\n",
              "      <td>No</td>\n",
              "      <td>Mailed check</td>\n",
              "      <td>19.85</td>\n",
              "      <td></td>\n",
              "      <td>No</td>\n",
              "    </tr>\n",
              "    <tr>\n",
              "      <th>3826</th>\n",
              "      <td>3213-VVOLG</td>\n",
              "      <td>Male</td>\n",
              "      <td>0</td>\n",
              "      <td>Yes</td>\n",
              "      <td>Yes</td>\n",
              "      <td>0</td>\n",
              "      <td>Yes</td>\n",
              "      <td>Yes</td>\n",
              "      <td>No</td>\n",
              "      <td>No</td>\n",
              "      <td>No</td>\n",
              "      <td>No</td>\n",
              "      <td>No</td>\n",
              "      <td>No</td>\n",
              "      <td>No</td>\n",
              "      <td>Two year</td>\n",
              "      <td>No</td>\n",
              "      <td>Mailed check</td>\n",
              "      <td>25.35</td>\n",
              "      <td></td>\n",
              "      <td>No</td>\n",
              "    </tr>\n",
              "    <tr>\n",
              "      <th>4380</th>\n",
              "      <td>2520-SGTTA</td>\n",
              "      <td>Female</td>\n",
              "      <td>0</td>\n",
              "      <td>Yes</td>\n",
              "      <td>Yes</td>\n",
              "      <td>0</td>\n",
              "      <td>Yes</td>\n",
              "      <td>No</td>\n",
              "      <td>No</td>\n",
              "      <td>No</td>\n",
              "      <td>No</td>\n",
              "      <td>No</td>\n",
              "      <td>No</td>\n",
              "      <td>No</td>\n",
              "      <td>No</td>\n",
              "      <td>Two year</td>\n",
              "      <td>No</td>\n",
              "      <td>Mailed check</td>\n",
              "      <td>20.00</td>\n",
              "      <td></td>\n",
              "      <td>No</td>\n",
              "    </tr>\n",
              "    <tr>\n",
              "      <th>5218</th>\n",
              "      <td>2923-ARZLG</td>\n",
              "      <td>Male</td>\n",
              "      <td>0</td>\n",
              "      <td>Yes</td>\n",
              "      <td>Yes</td>\n",
              "      <td>0</td>\n",
              "      <td>Yes</td>\n",
              "      <td>No</td>\n",
              "      <td>No</td>\n",
              "      <td>No</td>\n",
              "      <td>No</td>\n",
              "      <td>No</td>\n",
              "      <td>No</td>\n",
              "      <td>No</td>\n",
              "      <td>No</td>\n",
              "      <td>One year</td>\n",
              "      <td>Yes</td>\n",
              "      <td>Mailed check</td>\n",
              "      <td>19.70</td>\n",
              "      <td></td>\n",
              "      <td>No</td>\n",
              "    </tr>\n",
              "    <tr>\n",
              "      <th>6670</th>\n",
              "      <td>4075-WKNIU</td>\n",
              "      <td>Female</td>\n",
              "      <td>0</td>\n",
              "      <td>Yes</td>\n",
              "      <td>Yes</td>\n",
              "      <td>0</td>\n",
              "      <td>Yes</td>\n",
              "      <td>Yes</td>\n",
              "      <td>DSL</td>\n",
              "      <td>No</td>\n",
              "      <td>Yes</td>\n",
              "      <td>Yes</td>\n",
              "      <td>Yes</td>\n",
              "      <td>Yes</td>\n",
              "      <td>No</td>\n",
              "      <td>Two year</td>\n",
              "      <td>No</td>\n",
              "      <td>Mailed check</td>\n",
              "      <td>73.35</td>\n",
              "      <td></td>\n",
              "      <td>No</td>\n",
              "    </tr>\n",
              "    <tr>\n",
              "      <th>6754</th>\n",
              "      <td>2775-SEFEE</td>\n",
              "      <td>Male</td>\n",
              "      <td>0</td>\n",
              "      <td>No</td>\n",
              "      <td>Yes</td>\n",
              "      <td>0</td>\n",
              "      <td>Yes</td>\n",
              "      <td>Yes</td>\n",
              "      <td>DSL</td>\n",
              "      <td>Yes</td>\n",
              "      <td>Yes</td>\n",
              "      <td>No</td>\n",
              "      <td>Yes</td>\n",
              "      <td>No</td>\n",
              "      <td>No</td>\n",
              "      <td>Two year</td>\n",
              "      <td>Yes</td>\n",
              "      <td>Bank transfer (automatic)</td>\n",
              "      <td>61.90</td>\n",
              "      <td></td>\n",
              "      <td>No</td>\n",
              "    </tr>\n",
              "  </tbody>\n",
              "</table>\n",
              "</div>"
            ],
            "text/plain": [
              "      customerID  gender  SeniorCitizen  ... MonthlyCharges TotalCharges  Churn\n",
              "488   4472-LVYGI  Female              0  ...          52.55                  No\n",
              "753   3115-CZMZD    Male              0  ...          20.25                  No\n",
              "936   5709-LVOEQ  Female              0  ...          80.85                  No\n",
              "1082  4367-NUYAO    Male              0  ...          25.75                  No\n",
              "1340  1371-DWPAZ  Female              0  ...          56.05                  No\n",
              "3331  7644-OMVMY    Male              0  ...          19.85                  No\n",
              "3826  3213-VVOLG    Male              0  ...          25.35                  No\n",
              "4380  2520-SGTTA  Female              0  ...          20.00                  No\n",
              "5218  2923-ARZLG    Male              0  ...          19.70                  No\n",
              "6670  4075-WKNIU  Female              0  ...          73.35                  No\n",
              "6754  2775-SEFEE    Male              0  ...          61.90                  No\n",
              "\n",
              "[11 rows x 21 columns]"
            ]
          },
          "metadata": {
            "tags": []
          },
          "execution_count": 9
        }
      ]
    },
    {
      "cell_type": "markdown",
      "metadata": {
        "id": "2N6V85IseSuA"
      },
      "source": [
        "Como podemos observar, existe uma relação entre a variável **Tenure** e **TotalCharges**. Portanto, como a variável **TotalCharges** representa o valor total que um cliente pagou para a empresa de telecomunicações, enquanto permaneceu como consumidor, podemos deduzir que as pessoas com 0 meses como clientes da empresa não possuem valores para a variável **TotalCharges**.\n",
        "\n",
        "Com isso, vamos substituir os valores com aspas por zero e converter esta variável para float."
      ]
    },
    {
      "cell_type": "code",
      "metadata": {
        "id": "d5dS4bM7f7Qz"
      },
      "source": [
        "#Convertendo os valores com aspas para 0\n",
        "df_trat['TotalCharges'] = df_trat['TotalCharges'].apply(lambda x: 0 if x == \" \" else x)\n",
        "\n",
        "#Convertendo a coluna para float\n",
        "df_trat['TotalCharges'] = df_trat['TotalCharges'].astype('float64')"
      ],
      "execution_count": 10,
      "outputs": []
    },
    {
      "cell_type": "markdown",
      "metadata": {
        "id": "8voPh3qzg_gb"
      },
      "source": [
        "Diante destes processamentos nos dados, vamos reexibir o dataframe com as informações ajustadas."
      ]
    },
    {
      "cell_type": "code",
      "metadata": {
        "colab": {
          "base_uri": "https://localhost:8080/",
          "height": 662
        },
        "id": "bge95kUwhcfZ",
        "outputId": "851448aa-f076-4047-f06e-d97d0cc1062a"
      },
      "source": [
        "#Criando um novo dataframe com as variáveis tratadas\n",
        "df_var_trat = Map_Var_DF(features = features, df = df_trat)\n",
        "\n",
        "#Exibindo o dataframe\n",
        "df_var_trat"
      ],
      "execution_count": 11,
      "outputs": [
        {
          "output_type": "execute_result",
          "data": {
            "text/html": [
              "<div>\n",
              "<style scoped>\n",
              "    .dataframe tbody tr th:only-of-type {\n",
              "        vertical-align: middle;\n",
              "    }\n",
              "\n",
              "    .dataframe tbody tr th {\n",
              "        vertical-align: top;\n",
              "    }\n",
              "\n",
              "    .dataframe thead th {\n",
              "        text-align: right;\n",
              "    }\n",
              "</style>\n",
              "<table border=\"1\" class=\"dataframe\">\n",
              "  <thead>\n",
              "    <tr style=\"text-align: right;\">\n",
              "      <th></th>\n",
              "      <th>feature</th>\n",
              "      <th>Tipo</th>\n",
              "      <th>Categórico</th>\n",
              "      <th>Binário</th>\n",
              "      <th>Valores Categóricos</th>\n",
              "      <th>Min</th>\n",
              "      <th>Max</th>\n",
              "      <th>Qtd de Nulos</th>\n",
              "    </tr>\n",
              "  </thead>\n",
              "  <tbody>\n",
              "    <tr>\n",
              "      <th>0</th>\n",
              "      <td>gender</td>\n",
              "      <td>object</td>\n",
              "      <td>1</td>\n",
              "      <td>1</td>\n",
              "      <td>[Male, Female]</td>\n",
              "      <td>Female</td>\n",
              "      <td>Male</td>\n",
              "      <td>0</td>\n",
              "    </tr>\n",
              "    <tr>\n",
              "      <th>1</th>\n",
              "      <td>SeniorCitizen</td>\n",
              "      <td>int64</td>\n",
              "      <td>1</td>\n",
              "      <td>1</td>\n",
              "      <td>[0, 1]</td>\n",
              "      <td>0</td>\n",
              "      <td>1</td>\n",
              "      <td>0</td>\n",
              "    </tr>\n",
              "    <tr>\n",
              "      <th>2</th>\n",
              "      <td>Partner</td>\n",
              "      <td>object</td>\n",
              "      <td>1</td>\n",
              "      <td>1</td>\n",
              "      <td>[No, Yes]</td>\n",
              "      <td>No</td>\n",
              "      <td>Yes</td>\n",
              "      <td>0</td>\n",
              "    </tr>\n",
              "    <tr>\n",
              "      <th>3</th>\n",
              "      <td>Dependents</td>\n",
              "      <td>object</td>\n",
              "      <td>1</td>\n",
              "      <td>1</td>\n",
              "      <td>[No, Yes]</td>\n",
              "      <td>No</td>\n",
              "      <td>Yes</td>\n",
              "      <td>0</td>\n",
              "    </tr>\n",
              "    <tr>\n",
              "      <th>4</th>\n",
              "      <td>tenure</td>\n",
              "      <td>int64</td>\n",
              "      <td>0</td>\n",
              "      <td>0</td>\n",
              "      <td>[N/A]</td>\n",
              "      <td>0</td>\n",
              "      <td>72</td>\n",
              "      <td>0</td>\n",
              "    </tr>\n",
              "    <tr>\n",
              "      <th>5</th>\n",
              "      <td>PhoneService</td>\n",
              "      <td>object</td>\n",
              "      <td>1</td>\n",
              "      <td>1</td>\n",
              "      <td>[Yes, No]</td>\n",
              "      <td>No</td>\n",
              "      <td>Yes</td>\n",
              "      <td>0</td>\n",
              "    </tr>\n",
              "    <tr>\n",
              "      <th>6</th>\n",
              "      <td>MultipleLines</td>\n",
              "      <td>object</td>\n",
              "      <td>1</td>\n",
              "      <td>1</td>\n",
              "      <td>[No, Yes]</td>\n",
              "      <td>No</td>\n",
              "      <td>Yes</td>\n",
              "      <td>0</td>\n",
              "    </tr>\n",
              "    <tr>\n",
              "      <th>7</th>\n",
              "      <td>InternetService</td>\n",
              "      <td>object</td>\n",
              "      <td>1</td>\n",
              "      <td>0</td>\n",
              "      <td>[Fiber optic, DSL, No]</td>\n",
              "      <td>DSL</td>\n",
              "      <td>No</td>\n",
              "      <td>0</td>\n",
              "    </tr>\n",
              "    <tr>\n",
              "      <th>8</th>\n",
              "      <td>OnlineSecurity</td>\n",
              "      <td>object</td>\n",
              "      <td>1</td>\n",
              "      <td>1</td>\n",
              "      <td>[No, Yes]</td>\n",
              "      <td>No</td>\n",
              "      <td>Yes</td>\n",
              "      <td>0</td>\n",
              "    </tr>\n",
              "    <tr>\n",
              "      <th>9</th>\n",
              "      <td>OnlineBackup</td>\n",
              "      <td>object</td>\n",
              "      <td>1</td>\n",
              "      <td>1</td>\n",
              "      <td>[No, Yes]</td>\n",
              "      <td>No</td>\n",
              "      <td>Yes</td>\n",
              "      <td>0</td>\n",
              "    </tr>\n",
              "    <tr>\n",
              "      <th>10</th>\n",
              "      <td>DeviceProtection</td>\n",
              "      <td>object</td>\n",
              "      <td>1</td>\n",
              "      <td>1</td>\n",
              "      <td>[No, Yes]</td>\n",
              "      <td>No</td>\n",
              "      <td>Yes</td>\n",
              "      <td>0</td>\n",
              "    </tr>\n",
              "    <tr>\n",
              "      <th>11</th>\n",
              "      <td>TechSupport</td>\n",
              "      <td>object</td>\n",
              "      <td>1</td>\n",
              "      <td>1</td>\n",
              "      <td>[No, Yes]</td>\n",
              "      <td>No</td>\n",
              "      <td>Yes</td>\n",
              "      <td>0</td>\n",
              "    </tr>\n",
              "    <tr>\n",
              "      <th>12</th>\n",
              "      <td>StreamingTV</td>\n",
              "      <td>object</td>\n",
              "      <td>1</td>\n",
              "      <td>1</td>\n",
              "      <td>[No, Yes]</td>\n",
              "      <td>No</td>\n",
              "      <td>Yes</td>\n",
              "      <td>0</td>\n",
              "    </tr>\n",
              "    <tr>\n",
              "      <th>13</th>\n",
              "      <td>StreamingMovies</td>\n",
              "      <td>object</td>\n",
              "      <td>1</td>\n",
              "      <td>1</td>\n",
              "      <td>[No, Yes]</td>\n",
              "      <td>No</td>\n",
              "      <td>Yes</td>\n",
              "      <td>0</td>\n",
              "    </tr>\n",
              "    <tr>\n",
              "      <th>14</th>\n",
              "      <td>Contract</td>\n",
              "      <td>object</td>\n",
              "      <td>1</td>\n",
              "      <td>0</td>\n",
              "      <td>[Month-to-month, Two year, One year]</td>\n",
              "      <td>Month-to-month</td>\n",
              "      <td>Two year</td>\n",
              "      <td>0</td>\n",
              "    </tr>\n",
              "    <tr>\n",
              "      <th>15</th>\n",
              "      <td>PaperlessBilling</td>\n",
              "      <td>object</td>\n",
              "      <td>1</td>\n",
              "      <td>1</td>\n",
              "      <td>[Yes, No]</td>\n",
              "      <td>No</td>\n",
              "      <td>Yes</td>\n",
              "      <td>0</td>\n",
              "    </tr>\n",
              "    <tr>\n",
              "      <th>16</th>\n",
              "      <td>PaymentMethod</td>\n",
              "      <td>object</td>\n",
              "      <td>1</td>\n",
              "      <td>0</td>\n",
              "      <td>[Electronic check, Mailed check, Bank transfer...</td>\n",
              "      <td>Bank transfer (automatic)</td>\n",
              "      <td>Mailed check</td>\n",
              "      <td>0</td>\n",
              "    </tr>\n",
              "    <tr>\n",
              "      <th>17</th>\n",
              "      <td>MonthlyCharges</td>\n",
              "      <td>float64</td>\n",
              "      <td>0</td>\n",
              "      <td>0</td>\n",
              "      <td>[N/A]</td>\n",
              "      <td>18.25</td>\n",
              "      <td>118.75</td>\n",
              "      <td>0</td>\n",
              "    </tr>\n",
              "    <tr>\n",
              "      <th>18</th>\n",
              "      <td>TotalCharges</td>\n",
              "      <td>float64</td>\n",
              "      <td>0</td>\n",
              "      <td>0</td>\n",
              "      <td>[N/A]</td>\n",
              "      <td>0</td>\n",
              "      <td>8684.8</td>\n",
              "      <td>0</td>\n",
              "    </tr>\n",
              "    <tr>\n",
              "      <th>19</th>\n",
              "      <td>Churn</td>\n",
              "      <td>object</td>\n",
              "      <td>1</td>\n",
              "      <td>1</td>\n",
              "      <td>[No, Yes]</td>\n",
              "      <td>No</td>\n",
              "      <td>Yes</td>\n",
              "      <td>0</td>\n",
              "    </tr>\n",
              "  </tbody>\n",
              "</table>\n",
              "</div>"
            ],
            "text/plain": [
              "             feature     Tipo  ...           Max  Qtd de Nulos\n",
              "0             gender   object  ...          Male             0\n",
              "1      SeniorCitizen    int64  ...             1             0\n",
              "2            Partner   object  ...           Yes             0\n",
              "3         Dependents   object  ...           Yes             0\n",
              "4             tenure    int64  ...            72             0\n",
              "5       PhoneService   object  ...           Yes             0\n",
              "6      MultipleLines   object  ...           Yes             0\n",
              "7    InternetService   object  ...            No             0\n",
              "8     OnlineSecurity   object  ...           Yes             0\n",
              "9       OnlineBackup   object  ...           Yes             0\n",
              "10  DeviceProtection   object  ...           Yes             0\n",
              "11       TechSupport   object  ...           Yes             0\n",
              "12       StreamingTV   object  ...           Yes             0\n",
              "13   StreamingMovies   object  ...           Yes             0\n",
              "14          Contract   object  ...      Two year             0\n",
              "15  PaperlessBilling   object  ...           Yes             0\n",
              "16     PaymentMethod   object  ...  Mailed check             0\n",
              "17    MonthlyCharges  float64  ...        118.75             0\n",
              "18      TotalCharges  float64  ...        8684.8             0\n",
              "19             Churn   object  ...           Yes             0\n",
              "\n",
              "[20 rows x 8 columns]"
            ]
          },
          "metadata": {
            "tags": []
          },
          "execution_count": 11
        }
      ]
    },
    {
      "cell_type": "markdown",
      "metadata": {
        "id": "Pa5vU1Pyd6Z8"
      },
      "source": [
        "Vamos plotar o gráfico de barra das variáveis categóricas em relação a variável que iremos prever (Churn). Vale destacar que para fins de análises, foram considerados os dados originais, ou seja, sem a transformação do \"No phone service\" e \"No internet service\" em \"No\"."
      ]
    },
    {
      "cell_type": "code",
      "metadata": {
        "colab": {
          "base_uri": "https://localhost:8080/",
          "height": 1000
        },
        "id": "clpSCe8n5mli",
        "outputId": "f0dfd86f-c051-405e-f275-5957e668b4bf"
      },
      "source": [
        "#Definindo os parâmetros de style para o matplotlib\n",
        "rc_params = {'axes.edgecolor':'#787878', \n",
        "             'axes.titlecolor':'#787878', \n",
        "             'axes.labelcolor': '#787878', \n",
        "             'axes.spines.top':False, \n",
        "             'axes.spines.right': False, \n",
        "             'xtick.color': '#787878', \n",
        "             'ytick.color': '#787878',\n",
        "             'axes.titleweight': 'bold',\n",
        "             'axes.titlesize': 12,\n",
        "             'axes.titlepad': 12\n",
        "             }\n",
        "\n",
        "#setando os parâmetros no matplotlib\n",
        "with plt.rc_context(rc_params):\n",
        "\n",
        "  #Instanciando a classe figure e axes\n",
        "  fig, ax = plt.subplots(nrows = 4, ncols = 4, figsize = (20,15))\n",
        "\n",
        "  #Definindo um contandor para pecorrer o axes\n",
        "  cont_row = 0\n",
        "  cont_col = 0\n",
        "\n",
        "  #Criando um loop para gerar um gráfico de feature categórica com exceção do churn\n",
        "  for cat_feature in df_var_trat[\"feature\"].loc[(df_var_trat['Categórico'] == 1) & (df_var_trat['feature'] != \"Churn\") ].to_list():\n",
        "\n",
        "    #Plotando um gráfico de contador para cada feature e separando por churn\n",
        "    sns.countplot(x = cat_feature, data = df, ax = ax[cont_row, cont_col], hue = \"Churn\", palette = \"Pastel2\")\n",
        "\n",
        "    #Definindo uma lógica de incremento nos contadores do axes\n",
        "    if cont_col == 3:\n",
        "      cont_col = 0\n",
        "      cont_row = cont_row + 1\n",
        "    else:\n",
        "      cont_col = cont_col + 1\n",
        "\n",
        "  #Rotaciona o eixo x da variável PaymentMethod\n",
        "  plt.xticks(rotation = 45)\n",
        "\n",
        "  #Exibindo o gráfico\n",
        "  plt.tight_layout()"
      ],
      "execution_count": 12,
      "outputs": [
        {
          "output_type": "display_data",
          "data": {
            "image/png": "[encoded data removed]",
            "text/plain": [
              "<Figure size 1440x1080 with 16 Axes>"
            ]
          },
          "metadata": {
            "tags": [],
            "needs_background": "light"
          }
        }
      ]
    },
    {
      "cell_type": "markdown",
      "metadata": {
        "id": "gv8psW2wd23x"
      },
      "source": [
        "A partir dos gráficos, podemos concluir que:\n",
        "* O gênero dos consumidores estão balanceados tanto em termos de quantidade de homens e mulheres quanto em quantidade de churn;\n",
        "* Clientes que não são casados e não possuem dependentes tem maior probabilidade de abandonar os serviços;\n",
        "* O pacote oferecido de internet gera uma maior probabilidade de clientes abandonarem o serviço. Como podermos observar, cliente que não possuem internet tendem a permanecer mais tempo com a empresa. Vale destacar também que os clientes buscam sempre pacotes que ofereçam o melhor custo benefício, por isso, quanto menor o benefício oferecido (backup online, suporte técnico, streaming e etc) menor as chances de reter o cliente;\n",
        "* A qualidade do serviço deve ser considerada na estratégia de reter o cliente, pois podemos observar uma taxa de churn considerável para os consumidores que possuem streaming e internet de fibra ótica;\n",
        "* Contratos de serviço mais arriscados (month-to-month) tendem a gerar uma taxa de churn maior;\n",
        "* A forma de pagamento do tipo eletrônico check e cobrança de pagamento que não utilizam papel tende a aumentar a probabilidade de clientes abandonarem o serviço."
      ]
    },
    {
      "cell_type": "markdown",
      "metadata": {
        "id": "DKFv6uweqXJV"
      },
      "source": [
        "Vamos avaliar o histograma das variáveis numéricas com intuito de extrair alguns insights."
      ]
    },
    {
      "cell_type": "code",
      "metadata": {
        "colab": {
          "base_uri": "https://localhost:8080/",
          "height": 729
        },
        "id": "pH3OJMdSihQ6",
        "outputId": "2f9ea9d2-9940-423f-b986-46abf530aea0"
      },
      "source": [
        "#setando os parâmetros no matplotlib\n",
        "with plt.rc_context(rc_params):\n",
        "\n",
        "  #Instanciando o objeto figure e axes\n",
        "  fig, ax = plt.subplots( nrows = 3, ncols = 1, figsize = (15,10))\n",
        "\n",
        "  #Criando um histograma para a variável tenure\n",
        "  sns.histplot(data = df_trat, x = 'tenure', ax = ax[0], hue = \"Churn\")\n",
        "\n",
        "  #Setando o título do gráfico\n",
        "  ax[0].set_title(\"Histograma variável tenure\")\n",
        "\n",
        "  #Criando um histograma para variável MontlyCharges\n",
        "  sns.histplot(data = df_trat, x = 'MonthlyCharges', ax = ax[1], hue = \"Churn\")\n",
        "\n",
        "  #Setando o título do gráfico\n",
        "  ax[1].set_title(\"Histograma variável MontlyCharges\")\n",
        "\n",
        "  #Criando um histograma para a variável TotalCharges\n",
        "  sns.histplot(data = df_trat, x = 'TotalCharges', ax = ax[2], hue = \"Churn\")\n",
        "\n",
        "  #Setando o título do gráfico\n",
        "  ax[2].set_title(\"Histograma variável TotalCharges\")\n",
        "\n",
        "  #Exibindo o gráfico\n",
        "  plt.tight_layout()"
      ],
      "execution_count": 13,
      "outputs": [
        {
          "output_type": "display_data",
          "data": {
            "image/png": "[encoded data removed]",
            "text/plain": [
              "<Figure size 1080x720 with 3 Axes>"
            ]
          },
          "metadata": {
            "tags": [],
            "needs_background": "light"
          }
        }
      ]
    },
    {
      "cell_type": "markdown",
      "metadata": {
        "id": "KwKvjCK4to0W"
      },
      "source": [
        "A partir dos histogramas, podemos notar que:\n",
        "* As variáveis **tenure** e **TotalCharges** estão relacionadas indiretamente e transmitem o mesmo insight. Portanto, estas variáveis representam a fidelização do cliente, ou seja, quanto mais tempo uma pessoa for consumidora da empresa, maior a taxa de retenção do cliente;\n",
        "* Quanto mais caro for a mensalidade pelo serviço, maior a chance de perder o cliente. Como havíamos comentado na análise das variáveis categóricas, os consumidores irão buscar sempre um serviço/produto que tenha o melhor custo e benefício."
      ]
    },
    {
      "cell_type": "markdown",
      "metadata": {
        "id": "KuJK6SgW4JfX"
      },
      "source": [
        " O próximo passo é avaliarmos se os dados estão balanceados em relação a variável alvo (Churn)."
      ]
    },
    {
      "cell_type": "code",
      "metadata": {
        "colab": {
          "base_uri": "https://localhost:8080/",
          "height": 301
        },
        "id": "qVC5MY-X1wC6",
        "outputId": "ec0a9f98-ea65-463d-882d-27822400dd97"
      },
      "source": [
        "#setando os parâmetros no matplotlib\n",
        "with plt.rc_context(rc_params):\n",
        "\n",
        "  #Instanciando a Figure e Axes\n",
        "  fig, ax = plt.subplots()\n",
        "\n",
        "  #Criando o gráfico de countplot\n",
        "  sns.countplot(x = 'Churn', \n",
        "                data = df_trat,\n",
        "                ax = ax,\n",
        "                palette = \"Pastel2\")\n",
        "  \n",
        "  #Exibindo o título\n",
        "  ax.set_title(\"Quantidade de Churn e No Churn\")\n",
        "\n",
        "  #Armazena o % da amostra\n",
        "  percentual_churn = round((df_trat['Churn'].value_counts()[1] / df_trat.shape[0])*100,2)\n",
        "\n",
        "  #Criar uma informação no gráfico\n",
        "  ax.annotate(str(percentual_churn) + \"% da amostra\", \n",
        "              xy = (1, df_trat['Churn'].value_counts()[1]), \n",
        "              xytext = (25,25), \n",
        "              color = \"#787878\",\n",
        "              weight = 'bold', \n",
        "              textcoords='offset points',\n",
        "              arrowprops=dict(color = '#787878',  shrink= 0.05, width = 0.01, headwidth = 7))\n",
        "\n",
        "  #Exibindo o gráfico\n",
        "  plt.show()"
      ],
      "execution_count": 14,
      "outputs": [
        {
          "output_type": "display_data",
          "data": {
            "image/png": "[encoded data removed]",
            "text/plain": [
              "<Figure size 432x288 with 1 Axes>"
            ]
          },
          "metadata": {
            "tags": [],
            "needs_background": "light"
          }
        }
      ]
    },
    {
      "cell_type": "markdown",
      "metadata": {
        "id": "VmSSZOM34T8z"
      },
      "source": [
        "Como mostrado no gráfico, os dados relacionados com a variável alvo **Churn** está desbalanceada, visto que apenas 26,54% dos dados totais estão relacionados com consumidores que cancelaram o serviço.\n",
        "\n",
        "Isto gera um problema durante a predição do modelo de Machine Learning, porque é mais cômodo para o algoritmo classificar a maioria dos casos como No Churn. Diante disto, será necessário balancear amostra. Este passo será mostrado e explicado durante a fase de preparação dos dados."
      ]
    },
    {
      "cell_type": "markdown",
      "metadata": {
        "id": "ja-S3cHiTyXT"
      },
      "source": [
        "## Modelo de Machine Learning\n",
        "\n",
        "Antes de iniciarmos qualquer processo para avaliar o melhor modelo de machine learning para o problema envolvendo churn prediction, temos que realizar uma preparação dos dados."
      ]
    },
    {
      "cell_type": "markdown",
      "metadata": {
        "id": "PhXfrTbgU_kt"
      },
      "source": [
        "### Preparação dos dados"
      ]
    },
    {
      "cell_type": "markdown",
      "metadata": {
        "id": "cXsZ_HeYYlrh"
      },
      "source": [
        "Nesta fase iremos preparar os dados para permitir que possamos aplicar os variados modelos de machine learning. Portanto, o primeiro passo é transformar as variáveis categóricas em valores numéricos.\n",
        "\n",
        "Para isso, utilizaremos **LabelEncoder** da biblioteca do Scikit-Learn para transformar as variáveis binárias em valores de 0 e 1. Enquanto, para as variáveis que são categóricas e não binárias, utilizaremos o método **get_dummies** do Pandas que funciona de forma similar ao OneHotEncoder do Scikit-Learn com algumas facilidades para agilizar o processo.\n",
        "\n",
        "Antes de iniciar o processo de feature engineering, vamos armazenar o nome das variáveis categóricas, binárias e numéricas em uma lista. Esta etapa facilitará tanto o processo de codificação quanto posteriormente quando aplicaremos a técnica de scaling feature nas variáveis numéricas."
      ]
    },
    {
      "cell_type": "code",
      "metadata": {
        "id": "cAjvV1piUb_o"
      },
      "source": [
        "#Armazenando as variáveis categóricas e não binárias\n",
        "cat_features = df_var_trat['feature'].loc[ (df_var_trat['Categórico'] == 1) & (df_var_trat['Binário'] == 0) ].to_list()\n",
        "\n",
        "#Armazenando as variáveis binárias\n",
        "bin_features = df_var_trat['feature'].loc[ df_var_trat['Binário'] == 1 ].to_list()\n",
        "\n",
        "#Armazenando as variáveis numéricas\n",
        "num_features = df_var_trat['feature'].loc[ df_var_trat['Categórico'] == 0 ].to_list()"
      ],
      "execution_count": 15,
      "outputs": []
    },
    {
      "cell_type": "markdown",
      "metadata": {
        "id": "3QI24z9sackV"
      },
      "source": [
        "Com o nome das features armazenadas em listas de acordo com seu tipo, vamos aplicar as codificações nas variáveis categóricas e binárias. Vale destacar que devemos remover a variável **SeniorCitizen** por já estar codificada."
      ]
    },
    {
      "cell_type": "code",
      "metadata": {
        "id": "ib6AkqSyXzhU"
      },
      "source": [
        "#Removendo a variável SeniorCitizen\n",
        "bin_features.remove(\"SeniorCitizen\")\n",
        "\n",
        "#Instanciando a LabelEncorder\n",
        "le = LabelEncoder()\n",
        "\n",
        "#Aplicando o LabelEncoder no dataframe p/ var binárias\n",
        "for bin_feature in bin_features:\n",
        "\n",
        "  #Aplicando o método fit_transform para codificação\n",
        "  df_trat[bin_feature] = le.fit_transform(df_trat[bin_feature])\n",
        "\n",
        "#Aplicando o método get_dummies nas variáveis categóricas\n",
        "df_trat = pd.get_dummies(data = df_trat, columns = cat_features)"
      ],
      "execution_count": 16,
      "outputs": []
    },
    {
      "cell_type": "markdown",
      "metadata": {
        "id": "KDVZodRydD_b"
      },
      "source": [
        "Vamos avaliar como ficou o dataset tratado, imprimindo as 5 primeiras linhas."
      ]
    },
    {
      "cell_type": "code",
      "metadata": {
        "colab": {
          "base_uri": "https://localhost:8080/",
          "height": 343
        },
        "id": "2sr_607oWCH8",
        "outputId": "f2d2149d-1501-499b-a9cc-881505c0126c"
      },
      "source": [
        "#Imprimindo as 5 primeiras linhas\n",
        "df_trat.head()"
      ],
      "execution_count": 17,
      "outputs": [
        {
          "output_type": "execute_result",
          "data": {
            "text/html": [
              "<div>\n",
              "<style scoped>\n",
              "    .dataframe tbody tr th:only-of-type {\n",
              "        vertical-align: middle;\n",
              "    }\n",
              "\n",
              "    .dataframe tbody tr th {\n",
              "        vertical-align: top;\n",
              "    }\n",
              "\n",
              "    .dataframe thead th {\n",
              "        text-align: right;\n",
              "    }\n",
              "</style>\n",
              "<table border=\"1\" class=\"dataframe\">\n",
              "  <thead>\n",
              "    <tr style=\"text-align: right;\">\n",
              "      <th></th>\n",
              "      <th>customerID</th>\n",
              "      <th>gender</th>\n",
              "      <th>SeniorCitizen</th>\n",
              "      <th>Partner</th>\n",
              "      <th>Dependents</th>\n",
              "      <th>tenure</th>\n",
              "      <th>PhoneService</th>\n",
              "      <th>MultipleLines</th>\n",
              "      <th>OnlineSecurity</th>\n",
              "      <th>OnlineBackup</th>\n",
              "      <th>DeviceProtection</th>\n",
              "      <th>TechSupport</th>\n",
              "      <th>StreamingTV</th>\n",
              "      <th>StreamingMovies</th>\n",
              "      <th>PaperlessBilling</th>\n",
              "      <th>MonthlyCharges</th>\n",
              "      <th>TotalCharges</th>\n",
              "      <th>Churn</th>\n",
              "      <th>InternetService_DSL</th>\n",
              "      <th>InternetService_Fiber optic</th>\n",
              "      <th>InternetService_No</th>\n",
              "      <th>Contract_Month-to-month</th>\n",
              "      <th>Contract_One year</th>\n",
              "      <th>Contract_Two year</th>\n",
              "      <th>PaymentMethod_Bank transfer (automatic)</th>\n",
              "      <th>PaymentMethod_Credit card (automatic)</th>\n",
              "      <th>PaymentMethod_Electronic check</th>\n",
              "      <th>PaymentMethod_Mailed check</th>\n",
              "    </tr>\n",
              "  </thead>\n",
              "  <tbody>\n",
              "    <tr>\n",
              "      <th>0</th>\n",
              "      <td>7590-VHVEG</td>\n",
              "      <td>0</td>\n",
              "      <td>0</td>\n",
              "      <td>1</td>\n",
              "      <td>0</td>\n",
              "      <td>1</td>\n",
              "      <td>0</td>\n",
              "      <td>0</td>\n",
              "      <td>0</td>\n",
              "      <td>1</td>\n",
              "      <td>0</td>\n",
              "      <td>0</td>\n",
              "      <td>0</td>\n",
              "      <td>0</td>\n",
              "      <td>1</td>\n",
              "      <td>29.85</td>\n",
              "      <td>29.85</td>\n",
              "      <td>0</td>\n",
              "      <td>1</td>\n",
              "      <td>0</td>\n",
              "      <td>0</td>\n",
              "      <td>1</td>\n",
              "      <td>0</td>\n",
              "      <td>0</td>\n",
              "      <td>0</td>\n",
              "      <td>0</td>\n",
              "      <td>1</td>\n",
              "      <td>0</td>\n",
              "    </tr>\n",
              "    <tr>\n",
              "      <th>1</th>\n",
              "      <td>5575-GNVDE</td>\n",
              "      <td>1</td>\n",
              "      <td>0</td>\n",
              "      <td>0</td>\n",
              "      <td>0</td>\n",
              "      <td>34</td>\n",
              "      <td>1</td>\n",
              "      <td>0</td>\n",
              "      <td>1</td>\n",
              "      <td>0</td>\n",
              "      <td>1</td>\n",
              "      <td>0</td>\n",
              "      <td>0</td>\n",
              "      <td>0</td>\n",
              "      <td>0</td>\n",
              "      <td>56.95</td>\n",
              "      <td>1889.50</td>\n",
              "      <td>0</td>\n",
              "      <td>1</td>\n",
              "      <td>0</td>\n",
              "      <td>0</td>\n",
              "      <td>0</td>\n",
              "      <td>1</td>\n",
              "      <td>0</td>\n",
              "      <td>0</td>\n",
              "      <td>0</td>\n",
              "      <td>0</td>\n",
              "      <td>1</td>\n",
              "    </tr>\n",
              "    <tr>\n",
              "      <th>2</th>\n",
              "      <td>3668-QPYBK</td>\n",
              "      <td>1</td>\n",
              "      <td>0</td>\n",
              "      <td>0</td>\n",
              "      <td>0</td>\n",
              "      <td>2</td>\n",
              "      <td>1</td>\n",
              "      <td>0</td>\n",
              "      <td>1</td>\n",
              "      <td>1</td>\n",
              "      <td>0</td>\n",
              "      <td>0</td>\n",
              "      <td>0</td>\n",
              "      <td>0</td>\n",
              "      <td>1</td>\n",
              "      <td>53.85</td>\n",
              "      <td>108.15</td>\n",
              "      <td>1</td>\n",
              "      <td>1</td>\n",
              "      <td>0</td>\n",
              "      <td>0</td>\n",
              "      <td>1</td>\n",
              "      <td>0</td>\n",
              "      <td>0</td>\n",
              "      <td>0</td>\n",
              "      <td>0</td>\n",
              "      <td>0</td>\n",
              "      <td>1</td>\n",
              "    </tr>\n",
              "    <tr>\n",
              "      <th>3</th>\n",
              "      <td>7795-CFOCW</td>\n",
              "      <td>1</td>\n",
              "      <td>0</td>\n",
              "      <td>0</td>\n",
              "      <td>0</td>\n",
              "      <td>45</td>\n",
              "      <td>0</td>\n",
              "      <td>0</td>\n",
              "      <td>1</td>\n",
              "      <td>0</td>\n",
              "      <td>1</td>\n",
              "      <td>1</td>\n",
              "      <td>0</td>\n",
              "      <td>0</td>\n",
              "      <td>0</td>\n",
              "      <td>42.30</td>\n",
              "      <td>1840.75</td>\n",
              "      <td>0</td>\n",
              "      <td>1</td>\n",
              "      <td>0</td>\n",
              "      <td>0</td>\n",
              "      <td>0</td>\n",
              "      <td>1</td>\n",
              "      <td>0</td>\n",
              "      <td>1</td>\n",
              "      <td>0</td>\n",
              "      <td>0</td>\n",
              "      <td>0</td>\n",
              "    </tr>\n",
              "    <tr>\n",
              "      <th>4</th>\n",
              "      <td>9237-HQITU</td>\n",
              "      <td>0</td>\n",
              "      <td>0</td>\n",
              "      <td>0</td>\n",
              "      <td>0</td>\n",
              "      <td>2</td>\n",
              "      <td>1</td>\n",
              "      <td>0</td>\n",
              "      <td>0</td>\n",
              "      <td>0</td>\n",
              "      <td>0</td>\n",
              "      <td>0</td>\n",
              "      <td>0</td>\n",
              "      <td>0</td>\n",
              "      <td>1</td>\n",
              "      <td>70.70</td>\n",
              "      <td>151.65</td>\n",
              "      <td>1</td>\n",
              "      <td>0</td>\n",
              "      <td>1</td>\n",
              "      <td>0</td>\n",
              "      <td>1</td>\n",
              "      <td>0</td>\n",
              "      <td>0</td>\n",
              "      <td>0</td>\n",
              "      <td>0</td>\n",
              "      <td>1</td>\n",
              "      <td>0</td>\n",
              "    </tr>\n",
              "  </tbody>\n",
              "</table>\n",
              "</div>"
            ],
            "text/plain": [
              "   customerID  ...  PaymentMethod_Mailed check\n",
              "0  7590-VHVEG  ...                           0\n",
              "1  5575-GNVDE  ...                           1\n",
              "2  3668-QPYBK  ...                           1\n",
              "3  7795-CFOCW  ...                           0\n",
              "4  9237-HQITU  ...                           0\n",
              "\n",
              "[5 rows x 28 columns]"
            ]
          },
          "metadata": {
            "tags": []
          },
          "execution_count": 17
        }
      ]
    },
    {
      "cell_type": "markdown",
      "metadata": {
        "id": "W3GClGxfdSJG"
      },
      "source": [
        "O próximo passo é dividirmos a base de dados entre treino e teste. Este passo é importante para ajustarmos os modelos de machine learning com base no dataset de treino, fazer todas as otimizações necessárias, escolher o melhor modelo com base na sua performance para que no final possamos validar o nível de generalização do modelo com base em um dataset com dados desconhecidos (teste).\n",
        "\n",
        "Além disso, para podermos dividir os dados em treino e teste, precisamos definir os valores de X (variáveis independentes) e y (Churn - variável alvo).\n",
        "\n",
        "Vale destacar que a variável **customerID**, como mencionado anteriormente, não agrega valor para o modelo. Portanto, iremos retirar do dataset.\n",
        "\n"
      ]
    },
    {
      "cell_type": "code",
      "metadata": {
        "id": "moaAKUcyiXVU"
      },
      "source": [
        "#Definindo os valores de X e y\n",
        "X = df_trat.drop(['customerID', 'Churn'], axis = 1)\n",
        "y = df_trat['Churn']\n",
        "\n",
        "#Dividindo o dataset em treino e test\n",
        "X_train, X_test, y_train, y_test = train_test_split(X, \n",
        "                                                    y, \n",
        "                                                    shuffle = True, \n",
        "                                                    stratify = y,\n",
        "                                                    random_state = 42)"
      ],
      "execution_count": 18,
      "outputs": []
    },
    {
      "cell_type": "markdown",
      "metadata": {
        "id": "R0c-9icLzppa"
      },
      "source": [
        "O próximo passo é balancear os dados para evitar que a predição fique enviesada e limite a capacidade do modelo em generalizar.\n",
        "\n",
        "Esta etapa pode ser feita por duas maneiras, conforme indicado por [Carlos Melo](https://sigmoidal.ai/como-lidar-com-dados-desbalanceados/):\n",
        "\n",
        ">* Over-sampling: cria novas observações da classe minoritária a partir das informações contidas nos dados originais. Essa geração de novas entradas pode ser feita aleatoriamente com o auxílio de técnicas de clustering ou sinteticamente.\n",
        "* Under-sampling: reduz o desbalanceamento do dataset focando na classe majoritária. Ou seja, elimina aleatoriamente entradas da classe com maior número de ocorrências.\n",
        "\n",
        "Utilizaremos como base a técnica de **under-sampling**, devido a possibilidade de mantermos integralmente os dados originais associados a Churn."
      ]
    },
    {
      "cell_type": "code",
      "metadata": {
        "id": "4foT7K9m0MDD"
      },
      "source": [
        "#Instanciando o objeto RandomUnderSampler()\n",
        "rus = RandomUnderSampler()\n",
        "\n",
        "#Balanceando a amostra\n",
        "X_train_rus, y_train_rus = rus.fit_sample(X_train, y_train)\n",
        "\n",
        "#Transformando o array X em dataframe e y em série\n",
        "X_train_rus = pd.DataFrame(X_train_rus, columns = X_train.columns)\n",
        "y_train_rus = pd.Series(y_train_rus)"
      ],
      "execution_count": 19,
      "outputs": []
    },
    {
      "cell_type": "markdown",
      "metadata": {
        "id": "jCpqg0JZEkG0"
      },
      "source": [
        "### Escolha do Melhor Modelo\n",
        "\n",
        "Com as preparações dos dados, é possível aplicar os variados modelos de machine learning em busca daquele que atende a melhor métrica de avaliação para este problema.\n",
        "\n",
        "Portanto, a métrica de avaliação escolhida para definir a melhor modelo de acordo com a performance no dataset de validação é o **Recall**, porque para este problema queremos que o modelo seja capaz de maximizar os acertos de usuários possíveis de Churn, independente do erro.\n",
        "\n",
        "Utilizaremos os seguintes modelos para ajuste e análise:\n",
        "\n",
        "* Regressão Logística\n",
        "* Random Forest\n",
        "* SVC\n",
        "* KNN\n",
        "* XGBoost\n",
        "\n",
        "Antes de iniciar o processo de definição do melhor estimador, vamos otimizar os hiperparâmetros de cada modelo em busca de maximizar os resultados individuais."
      ]
    },
    {
      "cell_type": "markdown",
      "metadata": {
        "id": "QH_A3EFwIAz_"
      },
      "source": [
        "#### Otimização Hiperparâmetros\n",
        "O próximo passo é otimizar os hiperparâmetros de cada modelo, por isso, utilizaremos o algoritmo **GridSearchCV** do Scikit-Learn que visa escolher o melhor conjunto de hiperparâmetros a partir de uma validação cruzada.\n",
        "\n",
        "Antes de iniciarmos este processo, vamos instanciar e definir os parâmetros do Kfold para validação cruzada e criar um passo dentro do pipeline que definiremos para o GridSearchCV com o intuito de padronizar as variáveis numéricas. \n",
        "\n",
        "Vale destacar que é recomendado padronizar apenas as variáveis numéricas para trazer os valores para uma escala padrão, já que alguns modelos de machine learning baseados em distância e gradiente não funcionam de forma adequada para valores com escalas muitos diferentes, podendo gerar um erro na predição."
      ]
    },
    {
      "cell_type": "code",
      "metadata": {
        "id": "aCqu-jBHK24O"
      },
      "source": [
        "#Instanciando os parâmetros do Kfold para Validação Cruzada\n",
        "k_fold = KFold(n_splits = 5, shuffle = True, random_state = 42)"
      ],
      "execution_count": 33,
      "outputs": []
    },
    {
      "cell_type": "code",
      "metadata": {
        "id": "U4iudNGCLYLS"
      },
      "source": [
        "#Escalonando as variáveis numéricas\n",
        "num_scaled = ColumnTransformer([(\"Padronizar\", StandardScaler(), num_features)],\n",
        "                         remainder='passthrough')"
      ],
      "execution_count": 34,
      "outputs": []
    },
    {
      "cell_type": "markdown",
      "metadata": {
        "id": "VgvOdD6VI6zH"
      },
      "source": [
        "##### Regressão Logística"
      ]
    },
    {
      "cell_type": "markdown",
      "metadata": {
        "id": "oyziReQhefT-"
      },
      "source": [
        "O próximo passo é otimizar os hiperparâmetros para Regressão Logística. Iremos focar em três hiperparâmetros:\n",
        "* Penalidade;\n",
        "* Grau da penalidade (C);\n",
        "* Solver mais adequado para otimização do modelo para este problema."
      ]
    },
    {
      "cell_type": "code",
      "metadata": {
        "colab": {
          "base_uri": "https://localhost:8080/"
        },
        "id": "jnGgTZrgI_U0",
        "outputId": "35737296-0ec4-4454-f88e-88877a3ab9ba"
      },
      "source": [
        "#Importando o algoritmo de regressão logística\n",
        "from sklearn.linear_model import LogisticRegression\n",
        "\n",
        "#Definindo os passos da pipeline\n",
        "pipe = make_pipeline(num_scaled, LogisticRegression(random_state = 42))\n",
        "\n",
        "#Definindo os parâmetros para simulação do GridSearch\n",
        "param_grid = {\"logisticregression__penalty\": ['l1', 'l2', 'elasticnet', 'none'],\n",
        "              \"logisticregression__C\": [100, 10, 1, 0, 0.1, 0.01],\n",
        "              \"logisticregression__solver\": ['newton-cg', 'lbfgs', 'liblinear', 'sag', 'saga']}\n",
        "\n",
        "#Instanciando o GridSearch\n",
        "clf = GridSearchCV(estimator = pipe,\n",
        "                   param_grid = param_grid,\n",
        "                   scoring = 'recall',\n",
        "                   n_jobs = -1,\n",
        "                   cv = k_fold)\n",
        "\n",
        "#Ajustando com base no X_train e y_train balanceado\n",
        "clf.fit(X = X_train_rus, \n",
        "        y = y_train_rus)\n",
        "\n",
        "#Imprimindo o melhor parâmetro\n",
        "clf.best_params_"
      ],
      "execution_count": 55,
      "outputs": [
        {
          "output_type": "execute_result",
          "data": {
            "text/plain": [
              "{'logisticregression__C': 1,\n",
              " 'logisticregression__penalty': 'l2',\n",
              " 'logisticregression__solver': 'liblinear'}"
            ]
          },
          "metadata": {
            "tags": []
          },
          "execution_count": 55
        }
      ]
    },
    {
      "cell_type": "markdown",
      "metadata": {
        "id": "UP9DmXrofRk3"
      },
      "source": [
        "De acordo com GridSearchCV, os parâmetros que mais se adequam ao modelo de regressão logística, levando em consideração as particularidades do problema, são:\n",
        "* Penalidade = 'l2';\n",
        "* C = 1;\n",
        "* Solver = 'liblinear'."
      ]
    },
    {
      "cell_type": "markdown",
      "metadata": {
        "id": "_UGL1jtKgHIr"
      },
      "source": [
        "##### Random Forest\n",
        "O próximo passo é otimizar os hiperparâmetros para Random Forest. Iremos focar em dois hiperparâmetros:\n",
        "\n",
        "* Máximo de features para dividir o nó em cada árvore (max_features);\n",
        "* número de árovres (n_estimators)."
      ]
    },
    {
      "cell_type": "code",
      "metadata": {
        "colab": {
          "base_uri": "https://localhost:8080/"
        },
        "id": "w9QE-VvNgeVD",
        "outputId": "df6cc1c1-2d08-40ae-fb29-62259d16e030"
      },
      "source": [
        "#Importando o algoritmo de Random Forest\n",
        "from sklearn.ensemble import RandomForestClassifier\n",
        "\n",
        "#Definindo os passos da pipeline\n",
        "pipe = make_pipeline(num_scaled, RandomForestClassifier(random_state = 42))\n",
        "\n",
        "#Definindo os parâmetros para simulação do GridSearch\n",
        "param_grid = {\"randomforestclassifier__n_estimators\": [10, 100, 1000],\n",
        "              \"randomforestclassifier__max_features\": ['auto', 'sqrt', 'log2']}\n",
        "\n",
        "#Instanciando o GridSearch\n",
        "clf = GridSearchCV(estimator = pipe,\n",
        "                   param_grid = param_grid,\n",
        "                   scoring = 'recall',\n",
        "                   n_jobs = -1,\n",
        "                   cv = k_fold)\n",
        "\n",
        "#Ajustando com base no X_train e y_train balanceado\n",
        "clf.fit(X = X_train_rus, \n",
        "        y = y_train_rus)\n",
        "\n",
        "#Imprimindo o melhor parâmetro\n",
        "clf.best_params_"
      ],
      "execution_count": 60,
      "outputs": [
        {
          "output_type": "execute_result",
          "data": {
            "text/plain": [
              "{'randomforestclassifier__max_features': 'auto',\n",
              " 'randomforestclassifier__n_estimators': 1000}"
            ]
          },
          "metadata": {
            "tags": []
          },
          "execution_count": 60
        }
      ]
    },
    {
      "cell_type": "markdown",
      "metadata": {
        "id": "BytVvMLvlTfY"
      },
      "source": [
        "De acordo com GridSearchCV, os parâmetros que mais se adequam ao modelo de Random Forest, levando em consideração as particularidades do problema, são:\n",
        "\n",
        "* max_features = 'auto';\n",
        "* n_estimators = 1000."
      ]
    },
    {
      "cell_type": "markdown",
      "metadata": {
        "id": "lbLJVdEElhtY"
      },
      "source": [
        "##### SVC\n",
        "O próximo passo é otimizar os hiperparâmetros para SVC. Iremos focar em três hiperparâmetros:\n",
        "\n",
        "* Kernel;\n",
        "* Grau de penalização (C);\n",
        "* Gamma."
      ]
    },
    {
      "cell_type": "code",
      "metadata": {
        "colab": {
          "base_uri": "https://localhost:8080/"
        },
        "id": "2E3t64nLl38B",
        "outputId": "b485bc94-aba4-4991-f3e8-c6ed76a22a38"
      },
      "source": [
        "#Importando o algoritmo de SVC\n",
        "from sklearn.svm import SVC\n",
        "\n",
        "#Definindo os passos da pipeline\n",
        "pipe = make_pipeline(num_scaled, SVC(random_state = 42))\n",
        "\n",
        "#Definindo os parâmetros para simulação do GridSearch\n",
        "param_grid = {\"svc__kernel\": ['linear', 'poly', 'rbf', 'sigmoid'],\n",
        "              \"svc__C\": [100, 10, 1, 0, 0.1, 0.001],\n",
        "              \"svc__gamma\": ['scale', 'auto']}\n",
        "\n",
        "#Instanciando o GridSearch\n",
        "clf = GridSearchCV(estimator = pipe,\n",
        "                   param_grid = param_grid,\n",
        "                   scoring = 'recall',\n",
        "                   n_jobs = -1,\n",
        "                   cv = k_fold)\n",
        "\n",
        "#Ajustando com base no X_train e y_train balanceado\n",
        "clf.fit(X = X_train_rus, \n",
        "        y = y_train_rus)\n",
        "\n",
        "#Imprimindo o melhor parâmetro\n",
        "clf.best_params_"
      ],
      "execution_count": 61,
      "outputs": [
        {
          "output_type": "execute_result",
          "data": {
            "text/plain": [
              "{'svc__C': 0.001, 'svc__gamma': 'scale', 'svc__kernel': 'poly'}"
            ]
          },
          "metadata": {
            "tags": []
          },
          "execution_count": 61
        }
      ]
    },
    {
      "cell_type": "markdown",
      "metadata": {
        "id": "ZWPl7enWrX0v"
      },
      "source": [
        "De acordo com GridSearchCV, os parâmetros que mais se adequam ao modelo de Random Forest, levando em consideração as particularidades do problema, são:\n",
        "\n",
        "* C = 0.001;\n",
        "* gamma = 'Scale';\n",
        "* kernel = 'poly'. "
      ]
    },
    {
      "cell_type": "markdown",
      "metadata": {
        "id": "T3PpGbimrmnO"
      },
      "source": [
        "##### KNN\n",
        "O próximo passo é otimizar os hiperparâmetros para KNN. Iremos focar em três hiperparâmetros:\n",
        "\n",
        "* número de vizinhos (n_neighbors);\n",
        "* pesos de cada ponto (weights);\n",
        "* métrica de distância (metric)."
      ]
    },
    {
      "cell_type": "code",
      "metadata": {
        "colab": {
          "base_uri": "https://localhost:8080/"
        },
        "id": "vWY5qNWvrwwh",
        "outputId": "0d7d971d-646f-4c3a-e2bb-d398298ff5e7"
      },
      "source": [
        "#Importando o algoritmo de KNN\n",
        "from sklearn.neighbors import KNeighborsClassifier\n",
        "\n",
        "#Definindo os passos da pipeline\n",
        "pipe = make_pipeline(num_scaled, KNeighborsClassifier())\n",
        "\n",
        "#Definindo os parâmetros para simulação do GridSearch\n",
        "param_grid = {\"kneighborsclassifier__n_neighbors\": [1, 3, 5, 7, 9, 11, 13, 15, 17, 19, 21],\n",
        "              \"kneighborsclassifier__metric\": [\"euclidean\", \"manhattan\", \"minkowski\"],\n",
        "              \"kneighborsclassifier__weights\": ['uniform', 'distance']}\n",
        "\n",
        "#Instanciando o GridSearch\n",
        "clf = GridSearchCV(estimator = pipe,\n",
        "                   param_grid = param_grid,\n",
        "                   scoring = 'recall',\n",
        "                   n_jobs = -1,\n",
        "                   cv = k_fold)\n",
        "\n",
        "#Ajustando com base no X_train e y_train balanceado\n",
        "clf.fit(X = X_train_rus, \n",
        "        y = y_train_rus)\n",
        "\n",
        "#Imprimindo o melhor parâmetro\n",
        "clf.best_params_"
      ],
      "execution_count": 65,
      "outputs": [
        {
          "output_type": "execute_result",
          "data": {
            "text/plain": [
              "{'kneighborsclassifier__metric': 'manhattan',\n",
              " 'kneighborsclassifier__n_neighbors': 15,\n",
              " 'kneighborsclassifier__weights': 'uniform'}"
            ]
          },
          "metadata": {
            "tags": []
          },
          "execution_count": 65
        }
      ]
    },
    {
      "cell_type": "markdown",
      "metadata": {
        "id": "G0aYIhB4uZlU"
      },
      "source": [
        "De acordo com GridSearchCV, os parâmetros que mais se adequam ao modelo de KNN, levando em consideração as particularidades do problema, são:\n",
        "\n",
        "* metric = 'manhattan';\n",
        "* n_neighbors = 15;\n",
        "* weights = 'uniform'. "
      ]
    },
    {
      "cell_type": "markdown",
      "metadata": {
        "id": "i1SaNSyMuste"
      },
      "source": [
        "##### XGBoost\n",
        "\n",
        "O próximo passo é otimizar os hiperparâmetros para XGBoost. Iremos focar em quatro hiperparâmetros:\n",
        "\n",
        "* Número de árvores (n_estimators);\n",
        "* Taxa de aprendizagem (learning_rate);\n",
        "* % do subconjunto de dados a serem considerados em cada árvore (subsample);\n",
        "* Profundidade de cada árvore (max_depth)."
      ]
    },
    {
      "cell_type": "code",
      "metadata": {
        "colab": {
          "base_uri": "https://localhost:8080/"
        },
        "id": "mycymZPIvR8h",
        "outputId": "13b8be73-a24e-412f-a4c6-5357be065ead"
      },
      "source": [
        "#Importando o algoritmo de KNN\n",
        "from xgboost import XGBClassifier\n",
        "\n",
        "#Definindo os passos da pipeline\n",
        "pipe = make_pipeline(num_scaled, XGBClassifier(random_state = 42))\n",
        "\n",
        "#Definindo os parâmetros para simulação do GridSearch\n",
        "param_grid = {\"xgbclassifier__n_estimators\": [10, 100, 1000],\n",
        "              \"xgbclassifier__learning_rate\": [0.001, 0.01, 0.1],\n",
        "              \"xgbclassifier__subsample\": [0.5, 0.7, 1],\n",
        "              \"xgbclassifier__max_depth\": [3, 7, 9]}\n",
        "\n",
        "#Instanciando o GridSearch\n",
        "clf = GridSearchCV(estimator = pipe,\n",
        "                   param_grid = param_grid,\n",
        "                   scoring = 'recall',\n",
        "                   n_jobs = -1,\n",
        "                   cv = k_fold)\n",
        "\n",
        "#Ajustando com base no X_train e y_train balanceado\n",
        "clf.fit(X = X_train_rus, \n",
        "        y = y_train_rus)\n",
        "\n",
        "#Imprimindo o melhor parâmetro\n",
        "clf.best_params_"
      ],
      "execution_count": 66,
      "outputs": [
        {
          "output_type": "execute_result",
          "data": {
            "text/plain": [
              "{'xgbclassifier__learning_rate': 0.1,\n",
              " 'xgbclassifier__max_depth': 3,\n",
              " 'xgbclassifier__n_estimators': 10,\n",
              " 'xgbclassifier__subsample': 0.7}"
            ]
          },
          "metadata": {
            "tags": []
          },
          "execution_count": 66
        }
      ]
    },
    {
      "cell_type": "markdown",
      "metadata": {
        "id": "FxtLI9H9LXKp"
      },
      "source": [
        "De acordo com GridSearchCV, os parâmetros que mais se adequam ao modelo de XGboost, levando em consideração as particularidades do problema, são:\n",
        "\n",
        "* learning_rate = 0.1;\n",
        "* max_depth = 3;\n",
        "* n_estimators = 10;\n",
        "* subsample = 0.7. "
      ]
    },
    {
      "cell_type": "markdown",
      "metadata": {
        "id": "O-WbYvbWLyE6"
      },
      "source": [
        "#### Definindo o melhor modelo\n",
        "\n",
        "Após a otimização dos hiperparâmetros dos modelos escolhidos, vamos avaliar o melhor modelo com base na métrica **recall** obtida a partir do algoritmo de cross-validation do Scikit-learn."
      ]
    },
    {
      "cell_type": "code",
      "metadata": {
        "colab": {
          "base_uri": "https://localhost:8080/",
          "height": 202
        },
        "id": "ITv6zfIEMePb",
        "outputId": "1f2f6407-5977-48db-d127-a1674a72e440"
      },
      "source": [
        "#Criando uma lista vazia para armazenar os valores das métricas e o nome do modelo\n",
        "name_model = []\n",
        "recall = []\n",
        "\n",
        "#Instanaciando os modelos com os hiperparâmetros otimizados\n",
        "model_rl = LogisticRegression(C = 1, \n",
        "                              solver = \"liblinear\",\n",
        "                              penalty = \"l2\",\n",
        "                              random_state = 42)\n",
        "\n",
        "model_rf = RandomForestClassifier(n_estimators = 1000,\n",
        "                                  max_features = 'auto',\n",
        "                                  random_state = 42)\n",
        "\n",
        "model_svc = SVC(C = 0.001,\n",
        "                kernel = 'poly',\n",
        "                gamma = 'scale',\n",
        "                random_state = 42)\n",
        "\n",
        "model_knn = KNeighborsClassifier(n_neighbors = 15,\n",
        "                                 metric = 'manhattan',\n",
        "                                 weights = 'uniform')\n",
        "\n",
        "model_xgb = XGBClassifier(learning_rate = 0.1,\n",
        "                          max_depth = 3,\n",
        "                          n_estimators = 10,\n",
        "                          subsample = 0.7,\n",
        "                          random_state = 42)\n",
        "\n",
        "#Criando um loop para aplicar o cross_validation em cada modelo e armazenar o resultado\n",
        "for model in [model_rl, model_rf, model_svc, model_knn, model_xgb]:\n",
        "\n",
        "  #Criando um pipeline com a padronização + modelo\n",
        "  pipe = make_pipeline(num_scaled, model)\n",
        "\n",
        "  #Aplicando o cross_validation para calcular o score\n",
        "  score = cross_val_score(estimator = pipe,\n",
        "                          X = X_train_rus,\n",
        "                          y = y_train_rus,\n",
        "                          scoring = 'recall',\n",
        "                          cv = k_fold)\n",
        "  \n",
        "  #Armazenando o nome do modelo\n",
        "  name_model.append(model.__class__.__name__)\n",
        "\n",
        "  #Armazenando o score do modelo\n",
        "  recall.append(score.mean())\n",
        "\n",
        "#Convertendo a estrutura de lista para um dataframe\n",
        "df_model = pd.DataFrame(data = recall, \n",
        "                        index = name_model, \n",
        "                        columns = ['Recall'])\n",
        "\n",
        "#Imprmindo a tabela de resultado\n",
        "df_model"
      ],
      "execution_count": 74,
      "outputs": [
        {
          "output_type": "execute_result",
          "data": {
            "text/html": [
              "<div>\n",
              "<style scoped>\n",
              "    .dataframe tbody tr th:only-of-type {\n",
              "        vertical-align: middle;\n",
              "    }\n",
              "\n",
              "    .dataframe tbody tr th {\n",
              "        vertical-align: top;\n",
              "    }\n",
              "\n",
              "    .dataframe thead th {\n",
              "        text-align: right;\n",
              "    }\n",
              "</style>\n",
              "<table border=\"1\" class=\"dataframe\">\n",
              "  <thead>\n",
              "    <tr style=\"text-align: right;\">\n",
              "      <th></th>\n",
              "      <th>Recall</th>\n",
              "    </tr>\n",
              "  </thead>\n",
              "  <tbody>\n",
              "    <tr>\n",
              "      <th>LogisticRegression</th>\n",
              "      <td>0.799475</td>\n",
              "    </tr>\n",
              "    <tr>\n",
              "      <th>RandomForestClassifier</th>\n",
              "      <td>0.774495</td>\n",
              "    </tr>\n",
              "    <tr>\n",
              "      <th>SVC</th>\n",
              "      <td>0.913345</td>\n",
              "    </tr>\n",
              "    <tr>\n",
              "      <th>KNeighborsClassifier</th>\n",
              "      <td>0.839631</td>\n",
              "    </tr>\n",
              "    <tr>\n",
              "      <th>XGBClassifier</th>\n",
              "      <td>0.824419</td>\n",
              "    </tr>\n",
              "  </tbody>\n",
              "</table>\n",
              "</div>"
            ],
            "text/plain": [
              "                          Recall\n",
              "LogisticRegression      0.799475\n",
              "RandomForestClassifier  0.774495\n",
              "SVC                     0.913345\n",
              "KNeighborsClassifier    0.839631\n",
              "XGBClassifier           0.824419"
            ]
          },
          "metadata": {
            "tags": []
          },
          "execution_count": 74
        }
      ]
    },
    {
      "cell_type": "markdown",
      "metadata": {
        "id": "LrY9lz16Ryqq"
      },
      "source": [
        "A partir da validação cruzada, podemos notar que o modelo que melhor responde a métrica **recall** para o problema de Churn é o SVC. Porém, vamos testar mais um modelo que é resultante de uma combinação entre mais de um estimador.\n",
        "\n",
        "Este modelo é chamado de **ensemble** e para possibilitar melhor utilização, temos que considerar modelos que se baseiam em técnicas diferentes para predizer a variável alvo. Portanto, iremos usar como base os seguintes modelos:\n",
        "* Regressão logística - Gradiente Descendente;\n",
        "* SVC - Encontra um hiperplano de separação entre as classes da variável alvo;\n",
        "* KNN - Distância;\n",
        "* XGBoost - Árvore de decisão."
      ]
    },
    {
      "cell_type": "code",
      "metadata": {
        "colab": {
          "base_uri": "https://localhost:8080/",
          "height": 233
        },
        "id": "5QYLkk-aUe8y",
        "outputId": "ddb5e848-33f1-4fe6-c6ee-de4e05764749"
      },
      "source": [
        "#Importando a biblioteca do método ensemble\n",
        "from sklearn.ensemble import VotingClassifier\n",
        "\n",
        "#Armazenando os modelos\n",
        "model_ensemble = [('rl', model_rl),\n",
        "                  ('svc', model_svc),\n",
        "                  ('knn', model_knn),\n",
        "                  ('XGboost', model_xgb)]\n",
        "\n",
        "#Instanciando o modelo ensemble\n",
        "voting_clf = VotingClassifier( estimators = model_ensemble)\n",
        "\n",
        "#Criando um pipeline com a padronização + modelo\n",
        "pipe = make_pipeline(num_scaled, voting_clf)\n",
        "\n",
        "#Aplicando o cross_validation para calcular o score\n",
        "score = cross_val_score(estimator = pipe,\n",
        "                        X = X_train_rus,\n",
        "                        y = y_train_rus,\n",
        "                        scoring = 'recall',\n",
        "                        cv = k_fold)\n",
        "\n",
        "#Armazenando o nome do modelo\n",
        "name_model.append(\"Ensemble\")\n",
        "\n",
        "#Armazenando o resultado do score\n",
        "recall.append(score.mean())\n",
        "\n",
        "#Convertendo a estrutura de lista para um dataframe\n",
        "df_model = pd.DataFrame(data = recall, \n",
        "                        index = name_model, \n",
        "                        columns = ['Recall'])\n",
        "\n",
        "#Imprmindo a tabela de resultado\n",
        "df_model"
      ],
      "execution_count": 76,
      "outputs": [
        {
          "output_type": "execute_result",
          "data": {
            "text/html": [
              "<div>\n",
              "<style scoped>\n",
              "    .dataframe tbody tr th:only-of-type {\n",
              "        vertical-align: middle;\n",
              "    }\n",
              "\n",
              "    .dataframe tbody tr th {\n",
              "        vertical-align: top;\n",
              "    }\n",
              "\n",
              "    .dataframe thead th {\n",
              "        text-align: right;\n",
              "    }\n",
              "</style>\n",
              "<table border=\"1\" class=\"dataframe\">\n",
              "  <thead>\n",
              "    <tr style=\"text-align: right;\">\n",
              "      <th></th>\n",
              "      <th>Recall</th>\n",
              "    </tr>\n",
              "  </thead>\n",
              "  <tbody>\n",
              "    <tr>\n",
              "      <th>LogisticRegression</th>\n",
              "      <td>0.799475</td>\n",
              "    </tr>\n",
              "    <tr>\n",
              "      <th>RandomForestClassifier</th>\n",
              "      <td>0.774495</td>\n",
              "    </tr>\n",
              "    <tr>\n",
              "      <th>SVC</th>\n",
              "      <td>0.913345</td>\n",
              "    </tr>\n",
              "    <tr>\n",
              "      <th>KNeighborsClassifier</th>\n",
              "      <td>0.839631</td>\n",
              "    </tr>\n",
              "    <tr>\n",
              "      <th>XGBClassifier</th>\n",
              "      <td>0.824419</td>\n",
              "    </tr>\n",
              "    <tr>\n",
              "      <th>Ensemble</th>\n",
              "      <td>0.817206</td>\n",
              "    </tr>\n",
              "  </tbody>\n",
              "</table>\n",
              "</div>"
            ],
            "text/plain": [
              "                          Recall\n",
              "LogisticRegression      0.799475\n",
              "RandomForestClassifier  0.774495\n",
              "SVC                     0.913345\n",
              "KNeighborsClassifier    0.839631\n",
              "XGBClassifier           0.824419\n",
              "Ensemble                0.817206"
            ]
          },
          "metadata": {
            "tags": []
          },
          "execution_count": 76
        }
      ]
    },
    {
      "cell_type": "markdown",
      "metadata": {
        "id": "BGBfL2u7XD-U"
      },
      "source": [
        "Mesmo com a adição do método ensemble, o modelo SVC ainda continua sendo o melhor modelo com base na métrica **recall**.\n",
        "Portanto, o próximo passo é aplicarmos no dataset de teste para avaliarmos a capacidade de predição do modelo frente a dados desconhecidos."
      ]
    },
    {
      "cell_type": "markdown",
      "metadata": {
        "id": "eqRTs6JmXqDq"
      },
      "source": [
        "### Avaliação do Modelo Escolhido nos Dados de Teste\n",
        "\n",
        "O próximo passo é avaliarmos a performance do modelo escolhido em relação aos dados de teste."
      ]
    },
    {
      "cell_type": "code",
      "metadata": {
        "colab": {
          "base_uri": "https://localhost:8080/",
          "height": 469
        },
        "id": "TNaI7rJCYprD",
        "outputId": "51c5ac2b-4ea7-4dfe-ee9e-0deef712deb5"
      },
      "source": [
        "#Copiando o dataframe do X_train e X_test\n",
        "X_train_rus_scaled = X_train_rus.copy()\n",
        "X_test_scaled = X_test.copy()\n",
        "\n",
        "#Padronizando as variáveis numéricas\n",
        "for num_feature in num_features:\n",
        "\n",
        "  #Instanciando o objeto de padronização\n",
        "  scaler = StandardScaler()\n",
        "\n",
        "  #Ajustando as variáveis numéricas do X_train\n",
        "  X_train_rus_scaled[num_feature] = scaler.fit_transform(X_train_rus_scaled[num_feature].values.reshape(-1,1))\n",
        "\n",
        "  #Ajustando as variáveis numéricas de X_test com os mesmos parâmetros do X_train\n",
        "  X_test_scaled[num_feature] = scaler.transform(X_test_scaled[num_feature].values.reshape(-1,1))\n",
        "\n",
        "#Instanciando novamente o modelo escolhido\n",
        "model_svc = SVC(C = 0.001,\n",
        "                kernel = 'poly',\n",
        "                gamma = 'scale',\n",
        "                random_state = 42)\n",
        "\n",
        "#Aplicando o modelo escolhido\n",
        "model_svc.fit(X = X_train_rus_scaled,\n",
        "              y = y_train_rus)\n",
        "\n",
        "#Fazendo a previsão com base nos dados de teste\n",
        "y_pred = model_svc.predict(X_test_scaled)\n",
        "\n",
        "# Classification Report\n",
        "print(classification_report(y_test, y_pred))\n",
        "\n",
        "\n",
        "print(\"--------------------------------------------------------------------\")\n",
        "\n",
        "#Instanciando a figure e axes\n",
        "fig, ax = plt.subplots()\n",
        "\n",
        "#Plotando a matriz de confusão em um heatmap\n",
        "sns.heatmap(confusion_matrix(y_test, y_pred, normalize = 'true'), \n",
        "            square=True, \n",
        "            annot=True, \n",
        "            cbar=False,\n",
        "            ax = ax)\n",
        "\n",
        "#Definindo o nome do eixo x\n",
        "ax.set_xlabel(\"Previsão do Modelo\")\n",
        "\n",
        "#Definindo o nome do eixo y\n",
        "ax.set_ylabel(\"Valor Verdadeiro\")\n",
        "\n",
        "#Definindo o título\n",
        "ax.set_title(\"Matriz Confusão SVC\")\n",
        "\n",
        "#Exibindo a matriz de confusão\n",
        "plt.show()"
      ],
      "execution_count": 90,
      "outputs": [
        {
          "output_type": "stream",
          "text": [
            "              precision    recall  f1-score   support\n",
            "\n",
            "           0       0.93      0.19      0.32      1294\n",
            "           1       0.30      0.96      0.46       467\n",
            "\n",
            "    accuracy                           0.40      1761\n",
            "   macro avg       0.62      0.58      0.39      1761\n",
            "weighted avg       0.76      0.40      0.36      1761\n",
            "\n",
            "--------------------------------------------------------------------\n"
          ],
          "name": "stdout"
        },
        {
          "output_type": "display_data",
          "data": {
            "image/png": "[encoded data removed]",
            "text/plain": [
              "<Figure size 432x288 with 1 Axes>"
            ]
          },
          "metadata": {
            "tags": [],
            "needs_background": "light"
          }
        }
      ]
    },
    {
      "cell_type": "markdown",
      "metadata": {
        "id": "7KBcwEHJe1X9"
      },
      "source": [
        "## Conclusão\n",
        "O modelo de machine learning escolhido se baseou na métrica **recall** com o intuito de acertar o máximo de Churn em clientes que realmente cancelaram o serviço com a empresa de telecomunicações.\n",
        "\n",
        "Diante disto, o modelo que melhor se adequou foi o SVC, alcançando um **recall** na validação cruzada de 91%. Vale destacar também que seu resultado no dataset de teste (96%) foi próximo ao de validação.\n",
        "\n",
        "Com estas informações, é possível a empresa prever dentre aos novos dados de consumidores quais podem cancelar o serviço e buscar estratégias que antecipem e contribuam para reter e fidelizar o cliente."
      ]
    }
  ]
}